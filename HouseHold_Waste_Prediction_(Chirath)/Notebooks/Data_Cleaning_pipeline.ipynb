{
 "cells": [
  {
   "cell_type": "code",
   "outputs": [],
   "source": [
    "# import libraries \n",
    "import pandas as pd\n",
    "import numpy as np\n",
    "import matplotlib.pyplot as plt"
   ],
   "metadata": {
    "collapsed": false,
    "ExecuteTime": {
     "end_time": "2025-01-31T10:56:29.838423Z",
     "start_time": "2025-01-31T10:56:26.814200Z"
    }
   },
   "id": "78e27c76e05449bb",
   "execution_count": 1
  },
  {
   "cell_type": "code",
   "outputs": [
    {
     "data": {
      "text/plain": "   Unnamed: 0            Dump Date Vehicle No  Out Time  \\\n0         NaN                  NaN        NaN       NaN   \n1         NaN  2024-09-02 00:00:00    ZA-6994  13:05:00   \n2         NaN  2024-09-03 00:00:00    ZA-6994  13:49:00   \n3         NaN  2024-09-04 00:00:00    ZA-6994  11:45:00   \n4         NaN  2024-09-04 00:00:00    ZA-6994  15:16:00   \n\n   SOW Wastage Amount (Kg)  MSW Wastage Amount (Kg)  Induastrial Wastage (Kg)  \\\n0                      NaN                      NaN                       NaN   \n1                      NaN                   3620.0                       NaN   \n2                   4220.0                      NaN                       NaN   \n3                      NaN                   2150.0                       NaN   \n4                      NaN                   1430.0                       NaN   \n\n   Other Amount (Kg) Remarks Bill No    Muster          Route  \n0                NaN     NaN     NaN       NaN            NaN  \n1                NaN     NaN  605770  Kohuwala  01 - Vilawala  \n2                NaN     NaN  605989  Kohuwala  01 - Vilawala  \n3                NaN     NaN  606160  Kohuwala  01 - Vilawala  \n4                NaN     NaN  606270  Kohuwala  01 - Vilawala  ",
      "text/html": "<div>\n<style scoped>\n    .dataframe tbody tr th:only-of-type {\n        vertical-align: middle;\n    }\n\n    .dataframe tbody tr th {\n        vertical-align: top;\n    }\n\n    .dataframe thead th {\n        text-align: right;\n    }\n</style>\n<table border=\"1\" class=\"dataframe\">\n  <thead>\n    <tr style=\"text-align: right;\">\n      <th></th>\n      <th>Unnamed: 0</th>\n      <th>Dump Date</th>\n      <th>Vehicle No</th>\n      <th>Out Time</th>\n      <th>SOW Wastage Amount (Kg)</th>\n      <th>MSW Wastage Amount (Kg)</th>\n      <th>Induastrial Wastage (Kg)</th>\n      <th>Other Amount (Kg)</th>\n      <th>Remarks</th>\n      <th>Bill No</th>\n      <th>Muster</th>\n      <th>Route</th>\n    </tr>\n  </thead>\n  <tbody>\n    <tr>\n      <th>0</th>\n      <td>NaN</td>\n      <td>NaN</td>\n      <td>NaN</td>\n      <td>NaN</td>\n      <td>NaN</td>\n      <td>NaN</td>\n      <td>NaN</td>\n      <td>NaN</td>\n      <td>NaN</td>\n      <td>NaN</td>\n      <td>NaN</td>\n      <td>NaN</td>\n    </tr>\n    <tr>\n      <th>1</th>\n      <td>NaN</td>\n      <td>2024-09-02 00:00:00</td>\n      <td>ZA-6994</td>\n      <td>13:05:00</td>\n      <td>NaN</td>\n      <td>3620.0</td>\n      <td>NaN</td>\n      <td>NaN</td>\n      <td>NaN</td>\n      <td>605770</td>\n      <td>Kohuwala</td>\n      <td>01 - Vilawala</td>\n    </tr>\n    <tr>\n      <th>2</th>\n      <td>NaN</td>\n      <td>2024-09-03 00:00:00</td>\n      <td>ZA-6994</td>\n      <td>13:49:00</td>\n      <td>4220.0</td>\n      <td>NaN</td>\n      <td>NaN</td>\n      <td>NaN</td>\n      <td>NaN</td>\n      <td>605989</td>\n      <td>Kohuwala</td>\n      <td>01 - Vilawala</td>\n    </tr>\n    <tr>\n      <th>3</th>\n      <td>NaN</td>\n      <td>2024-09-04 00:00:00</td>\n      <td>ZA-6994</td>\n      <td>11:45:00</td>\n      <td>NaN</td>\n      <td>2150.0</td>\n      <td>NaN</td>\n      <td>NaN</td>\n      <td>NaN</td>\n      <td>606160</td>\n      <td>Kohuwala</td>\n      <td>01 - Vilawala</td>\n    </tr>\n    <tr>\n      <th>4</th>\n      <td>NaN</td>\n      <td>2024-09-04 00:00:00</td>\n      <td>ZA-6994</td>\n      <td>15:16:00</td>\n      <td>NaN</td>\n      <td>1430.0</td>\n      <td>NaN</td>\n      <td>NaN</td>\n      <td>NaN</td>\n      <td>606270</td>\n      <td>Kohuwala</td>\n      <td>01 - Vilawala</td>\n    </tr>\n  </tbody>\n</table>\n</div>"
     },
     "execution_count": 4,
     "metadata": {},
     "output_type": "execute_result"
    }
   ],
   "source": [
    "# load the data\n",
    "dataset = pd.read_excel('/Users/chirath/Python/IIT/Waste_Management_System-DSGP-/24 Data/September Report.xlsx')\n",
    "dataset.head()"
   ],
   "metadata": {
    "collapsed": false,
    "ExecuteTime": {
     "end_time": "2025-01-31T11:19:18.068441Z",
     "start_time": "2025-01-31T11:19:17.915829Z"
    }
   },
   "id": "2abb99fa76e6628b",
   "execution_count": 4
  },
  {
   "cell_type": "code",
   "outputs": [
    {
     "name": "stdout",
     "output_type": "stream",
     "text": [
      "The number of rows in the dataset is:  1754\n",
      "The number of columns in the dataset is:  12\n"
     ]
    }
   ],
   "source": [
    "# identify the shape of the dataset\n",
    "print(\"The number of rows in the dataset is: \", dataset.shape[0])\n",
    "print(\"The number of columns in the dataset is: \", dataset.shape[1])"
   ],
   "metadata": {
    "collapsed": false,
    "ExecuteTime": {
     "end_time": "2025-01-31T11:19:19.740997Z",
     "start_time": "2025-01-31T11:19:19.737963Z"
    }
   },
   "id": "756887eeb8e22de1",
   "execution_count": 5
  },
  {
   "cell_type": "code",
   "outputs": [
    {
     "name": "stdout",
     "output_type": "stream",
     "text": [
      "The data types of the columns in the dataset are: \n",
      "Unnamed: 0                  float64\n",
      "Dump Date                    object\n",
      "Vehicle No                   object\n",
      "Out Time                     object\n",
      "SOW Wastage Amount (Kg)     float64\n",
      "MSW Wastage Amount (Kg)     float64\n",
      "Induastrial Wastage (Kg)    float64\n",
      "Other Amount (Kg)           float64\n",
      "Remarks                      object\n",
      "Bill No                      object\n",
      "Muster                       object\n",
      "Route                        object\n",
      "dtype: object\n"
     ]
    }
   ],
   "source": [
    "# indentify the data types of the columns (features)\n",
    "print(\"The data types of the columns in the dataset are: \")\n",
    "print(dataset.dtypes)"
   ],
   "metadata": {
    "collapsed": false,
    "ExecuteTime": {
     "end_time": "2025-01-31T11:19:43.514441Z",
     "start_time": "2025-01-31T11:19:43.509209Z"
    }
   },
   "id": "2ded35d18d15a2f3",
   "execution_count": 7
  },
  {
   "cell_type": "code",
   "outputs": [
    {
     "name": "stdout",
     "output_type": "stream",
     "text": [
      "Dump Date: yes\n",
      "Vehicle No: yes\n",
      "Out Time: yes\n",
      "SOW Wastage Amount (Kg): yes\n",
      "MSW Wastage Amount (Kg): yes\n",
      "Induastrial Wastage (Kg): yes\n",
      "Other Amount (Kg): yes\n",
      "Remarks: yes\n",
      "Bill No: yes\n",
      "Muster: yes\n",
      "Route: yes\n"
     ]
    }
   ],
   "source": [
    "# define the default column names\n",
    "default_columns = [\n",
    "    'Dump Date', 'Vehicle No', 'Out Time', 'SOW Wastage Amount (Kg)', \n",
    "    'MSW Wastage Amount (Kg)', 'Induastrial Wastage (Kg)', 'Other Amount (Kg)', \n",
    "    'Remarks', 'Bill No', 'Muster', 'Route'\n",
    "]\n",
    "\n",
    "# Function to check if columns exist in the dataset\n",
    "def check_columns_exist(df, columns):\n",
    "    for column in columns:\n",
    "        if column in df.columns:\n",
    "            print(f\"{column}: yes\")\n",
    "        else:\n",
    "            print(f\"{column}: no\")\n",
    "\n",
    "check_columns_exist(dataset, default_columns)"
   ],
   "metadata": {
    "collapsed": false,
    "ExecuteTime": {
     "end_time": "2025-01-31T11:21:37.326034Z",
     "start_time": "2025-01-31T11:21:37.319942Z"
    }
   },
   "id": "4b6ecf71ec3d76ba",
   "execution_count": 9
  },
  {
   "cell_type": "code",
   "outputs": [
    {
     "name": "stdout",
     "output_type": "stream",
     "text": [
      "Dump Date                    object\n",
      "Vehicle No                   object\n",
      "Out Time                     object\n",
      "SOW Wastage Amount (Kg)     float64\n",
      "MSW Wastage Amount (Kg)     float64\n",
      "Induastrial Wastage (Kg)    float64\n",
      "Other Amount (Kg)           float64\n",
      "Remarks                      object\n",
      "Bill No                      object\n",
      "Muster                       object\n",
      "Route                        object\n",
      "dtype: object\n"
     ]
    }
   ],
   "source": [
    "# keep only the default columns\n",
    "dataset = dataset[default_columns]\n",
    "print(dataset.dtypes)"
   ],
   "metadata": {
    "collapsed": false,
    "ExecuteTime": {
     "end_time": "2025-01-31T11:22:43.373378Z",
     "start_time": "2025-01-31T11:22:43.370395Z"
    }
   },
   "id": "f387dadc5ec0b2fb",
   "execution_count": 10
  },
  {
   "cell_type": "code",
   "outputs": [
    {
     "name": "stdout",
     "output_type": "stream",
     "text": [
      "The missing values in the dataset are: \n",
      "Unnamed: 0                  1754\n",
      "Dump Date                     51\n",
      "Vehicle No                    56\n",
      "Out Time                      60\n",
      "SOW Wastage Amount (Kg)     1093\n",
      "MSW Wastage Amount (Kg)      730\n",
      "Induastrial Wastage (Kg)    1752\n",
      "Other Amount (Kg)           1736\n",
      "Remarks                     1717\n",
      "Bill No                       54\n",
      "Muster                        55\n",
      "Route                         55\n",
      "dtype: int64\n"
     ]
    }
   ],
   "source": [
    "# identify the missing values in the dataset\n",
    "print(\"The missing values in the dataset are: \")\n",
    "print(dataset.isnull().sum())"
   ],
   "metadata": {
    "collapsed": false,
    "ExecuteTime": {
     "end_time": "2025-01-31T11:20:25.714003Z",
     "start_time": "2025-01-31T11:20:25.706941Z"
    }
   },
   "id": "51f7e80fd004ecf0",
   "execution_count": 8
  },
  {
   "cell_type": "code",
   "outputs": [
    {
     "name": "stdout",
     "output_type": "stream",
     "text": [
      "The duplicate rows in the dataset are: \n",
      "49\n",
      "     Dump Date Vehicle No Out Time  SOW Wastage Amount (Kg)  \\\n",
      "31         NaN        NaN      NaN                      NaN   \n",
      "59         NaN        NaN      NaN                      NaN   \n",
      "84         NaN        NaN      NaN                      NaN   \n",
      "141        NaN        NaN      NaN                      NaN   \n",
      "176        NaN        NaN      NaN                      NaN   \n",
      "248        NaN        NaN      NaN                      NaN   \n",
      "276        NaN        NaN      NaN                      NaN   \n",
      "314        NaN        NaN      NaN                      NaN   \n",
      "349        NaN        NaN      NaN                      NaN   \n",
      "383        NaN        NaN      NaN                      NaN   \n",
      "451        NaN        NaN      NaN                      NaN   \n",
      "531        NaN        NaN      NaN                      NaN   \n",
      "597        NaN        NaN      NaN                      NaN   \n",
      "635        NaN        NaN      NaN                      NaN   \n",
      "697        NaN        NaN      NaN                      NaN   \n",
      "731        NaN        NaN      NaN                      NaN   \n",
      "813        NaN        NaN      NaN                      NaN   \n",
      "872        NaN        NaN      NaN                      NaN   \n",
      "905        NaN        NaN      NaN                      NaN   \n",
      "963        NaN        NaN      NaN                      NaN   \n",
      "1002       NaN        NaN      NaN                      NaN   \n",
      "1038       NaN        NaN      NaN                      NaN   \n",
      "1119       NaN        NaN      NaN                      NaN   \n",
      "1160       NaN        NaN      NaN                      NaN   \n",
      "1224       NaN        NaN      NaN                      NaN   \n",
      "1316       NaN        NaN      NaN                      NaN   \n",
      "1386       NaN        NaN      NaN                      NaN   \n",
      "1459       NaN        NaN      NaN                      NaN   \n",
      "1489       NaN        NaN      NaN                      NaN   \n",
      "1518       NaN        NaN      NaN                      NaN   \n",
      "1552       NaN        NaN      NaN                      NaN   \n",
      "1617       NaN        NaN      NaN                      NaN   \n",
      "1695       NaN        NaN      NaN                      NaN   \n",
      "1717       NaN        NaN      NaN                      NaN   \n",
      "1732       NaN        NaN      NaN                      NaN   \n",
      "1735       NaN        NaN      NaN                      NaN   \n",
      "1736       NaN        NaN      NaN                      NaN   \n",
      "1737       NaN        NaN      NaN                      NaN   \n",
      "1738       NaN        NaN      NaN                      NaN   \n",
      "1739       NaN        NaN      NaN                      NaN   \n",
      "1740       NaN        NaN      NaN                      NaN   \n",
      "1741       NaN        NaN      NaN                      NaN   \n",
      "1742       NaN        NaN      NaN                      NaN   \n",
      "1743       NaN        NaN      NaN                      NaN   \n",
      "1744       NaN        NaN      NaN                      NaN   \n",
      "1747       NaN        NaN      NaN                      NaN   \n",
      "1749       NaN        NaN      NaN                      NaN   \n",
      "1751       NaN        NaN      NaN                      NaN   \n",
      "1752       NaN        NaN      NaN                      NaN   \n",
      "\n",
      "      MSW Wastage Amount (Kg)  Induastrial Wastage (Kg)  Other Amount (Kg)  \\\n",
      "31                        NaN                       NaN                NaN   \n",
      "59                        NaN                       NaN                NaN   \n",
      "84                        NaN                       NaN                NaN   \n",
      "141                       NaN                       NaN                NaN   \n",
      "176                       NaN                       NaN                NaN   \n",
      "248                       NaN                       NaN                NaN   \n",
      "276                       NaN                       NaN                NaN   \n",
      "314                       NaN                       NaN                NaN   \n",
      "349                       NaN                       NaN                NaN   \n",
      "383                       NaN                       NaN                NaN   \n",
      "451                       NaN                       NaN                NaN   \n",
      "531                       NaN                       NaN                NaN   \n",
      "597                       NaN                       NaN                NaN   \n",
      "635                       NaN                       NaN                NaN   \n",
      "697                       NaN                       NaN                NaN   \n",
      "731                       NaN                       NaN                NaN   \n",
      "813                       NaN                       NaN                NaN   \n",
      "872                       NaN                       NaN                NaN   \n",
      "905                       NaN                       NaN                NaN   \n",
      "963                       NaN                       NaN                NaN   \n",
      "1002                      NaN                       NaN                NaN   \n",
      "1038                      NaN                       NaN                NaN   \n",
      "1119                      NaN                       NaN                NaN   \n",
      "1160                      NaN                       NaN                NaN   \n",
      "1224                      NaN                       NaN                NaN   \n",
      "1316                      NaN                       NaN                NaN   \n",
      "1386                      NaN                       NaN                NaN   \n",
      "1459                      NaN                       NaN                NaN   \n",
      "1489                      NaN                       NaN                NaN   \n",
      "1518                      NaN                       NaN                NaN   \n",
      "1552                      NaN                       NaN                NaN   \n",
      "1617                      NaN                       NaN                NaN   \n",
      "1695                      NaN                       NaN                NaN   \n",
      "1717                      NaN                       NaN                NaN   \n",
      "1732                      NaN                       NaN                NaN   \n",
      "1735                      NaN                       NaN                NaN   \n",
      "1736                      NaN                       NaN                NaN   \n",
      "1737                      NaN                       NaN                NaN   \n",
      "1738                      NaN                       NaN                NaN   \n",
      "1739                      NaN                       NaN                NaN   \n",
      "1740                      NaN                       NaN                NaN   \n",
      "1741                      NaN                       NaN                NaN   \n",
      "1742                      NaN                       NaN                NaN   \n",
      "1743                      NaN                       NaN                NaN   \n",
      "1744                      NaN                       NaN                NaN   \n",
      "1747                      NaN                       NaN                NaN   \n",
      "1749                      NaN                       NaN                NaN   \n",
      "1751                      NaN                       NaN                NaN   \n",
      "1752                      NaN                       NaN                NaN   \n",
      "\n",
      "     Remarks Bill No Muster Route  \n",
      "31       NaN     NaN    NaN   NaN  \n",
      "59       NaN     NaN    NaN   NaN  \n",
      "84       NaN     NaN    NaN   NaN  \n",
      "141      NaN     NaN    NaN   NaN  \n",
      "176      NaN     NaN    NaN   NaN  \n",
      "248      NaN     NaN    NaN   NaN  \n",
      "276      NaN     NaN    NaN   NaN  \n",
      "314      NaN     NaN    NaN   NaN  \n",
      "349      NaN     NaN    NaN   NaN  \n",
      "383      NaN     NaN    NaN   NaN  \n",
      "451      NaN     NaN    NaN   NaN  \n",
      "531      NaN     NaN    NaN   NaN  \n",
      "597      NaN     NaN    NaN   NaN  \n",
      "635      NaN     NaN    NaN   NaN  \n",
      "697      NaN     NaN    NaN   NaN  \n",
      "731      NaN     NaN    NaN   NaN  \n",
      "813      NaN     NaN    NaN   NaN  \n",
      "872      NaN     NaN    NaN   NaN  \n",
      "905      NaN     NaN    NaN   NaN  \n",
      "963      NaN     NaN    NaN   NaN  \n",
      "1002     NaN     NaN    NaN   NaN  \n",
      "1038     NaN     NaN    NaN   NaN  \n",
      "1119     NaN     NaN    NaN   NaN  \n",
      "1160     NaN     NaN    NaN   NaN  \n",
      "1224     NaN     NaN    NaN   NaN  \n",
      "1316     NaN     NaN    NaN   NaN  \n",
      "1386     NaN     NaN    NaN   NaN  \n",
      "1459     NaN     NaN    NaN   NaN  \n",
      "1489     NaN     NaN    NaN   NaN  \n",
      "1518     NaN     NaN    NaN   NaN  \n",
      "1552     NaN     NaN    NaN   NaN  \n",
      "1617     NaN     NaN    NaN   NaN  \n",
      "1695     NaN     NaN    NaN   NaN  \n",
      "1717     NaN     NaN    NaN   NaN  \n",
      "1732     NaN     NaN    NaN   NaN  \n",
      "1735     NaN     NaN    NaN   NaN  \n",
      "1736     NaN     NaN    NaN   NaN  \n",
      "1737     NaN     NaN    NaN   NaN  \n",
      "1738     NaN     NaN    NaN   NaN  \n",
      "1739     NaN     NaN    NaN   NaN  \n",
      "1740     NaN     NaN    NaN   NaN  \n",
      "1741     NaN     NaN    NaN   NaN  \n",
      "1742     NaN     NaN    NaN   NaN  \n",
      "1743     NaN     NaN    NaN   NaN  \n",
      "1744     NaN     NaN    NaN   NaN  \n",
      "1747     NaN     NaN    NaN   NaN  \n",
      "1749     NaN     NaN    NaN   NaN  \n",
      "1751     NaN     NaN    NaN   NaN  \n",
      "1752     NaN     NaN    NaN   NaN  \n"
     ]
    }
   ],
   "source": [
    "# identify the duplicate rows in the dataset\n",
    "print(\"The duplicate rows in the dataset are: \")\n",
    "print(dataset.duplicated().sum())\n",
    "print(dataset[dataset.duplicated()])"
   ],
   "metadata": {
    "collapsed": false,
    "ExecuteTime": {
     "end_time": "2025-01-31T11:24:11.544105Z",
     "start_time": "2025-01-31T11:24:11.527363Z"
    }
   },
   "id": "cc51685c59ad5fea",
   "execution_count": 12
  },
  {
   "cell_type": "code",
   "outputs": [],
   "source": [
    "# drop the duplicate rows\n",
    "dataset = dataset.drop_duplicates()"
   ],
   "metadata": {
    "collapsed": false,
    "ExecuteTime": {
     "end_time": "2025-01-31T11:24:37.560524Z",
     "start_time": "2025-01-31T11:24:37.550845Z"
    }
   },
   "id": "c9e3a586a9669c26",
   "execution_count": 13
  },
  {
   "cell_type": "code",
   "outputs": [
    {
     "name": "stdout",
     "output_type": "stream",
     "text": [
      "The number of rows in the dataset after dropping the duplicates is:  1705\n"
     ]
    }
   ],
   "source": [
    "# check the number of rows after dropping the duplicates\n",
    "print(\"The number of rows in the dataset after dropping the duplicates is: \", dataset.shape[0])"
   ],
   "metadata": {
    "collapsed": false,
    "ExecuteTime": {
     "end_time": "2025-01-31T11:25:19.383952Z",
     "start_time": "2025-01-31T11:25:19.374388Z"
    }
   },
   "id": "1de731744dc908b8",
   "execution_count": 14
  },
  {
   "cell_type": "code",
   "outputs": [
    {
     "name": "stdout",
     "output_type": "stream",
     "text": [
      "The missing values in the dataset after dropping the duplicates are: \n",
      "Dump Date                      2\n",
      "Vehicle No                     7\n",
      "Out Time                      11\n",
      "SOW Wastage Amount (Kg)     1044\n",
      "MSW Wastage Amount (Kg)      681\n",
      "Induastrial Wastage (Kg)    1703\n",
      "Other Amount (Kg)           1687\n",
      "Remarks                     1668\n",
      "Bill No                        5\n",
      "Muster                         6\n",
      "Route                          6\n",
      "dtype: int64\n"
     ]
    }
   ],
   "source": [
    "# check the missing values in the dataset after dropping the duplicates\n",
    "print(\"The missing values in the dataset after dropping the duplicates are: \")\n",
    "print(dataset.isnull().sum())"
   ],
   "metadata": {
    "collapsed": false,
    "ExecuteTime": {
     "end_time": "2025-01-31T11:25:53.659327Z",
     "start_time": "2025-01-31T11:25:53.658457Z"
    }
   },
   "id": "318eb5376141a9d1",
   "execution_count": 15
  },
  {
   "cell_type": "code",
   "outputs": [],
   "source": [
    "# remove the instances with Dump Date as missing values\n",
    "dataset = dataset.dropna(subset=['Dump Date'])"
   ],
   "metadata": {
    "collapsed": false,
    "ExecuteTime": {
     "end_time": "2025-01-31T11:26:26.426450Z",
     "start_time": "2025-01-31T11:26:26.424524Z"
    }
   },
   "id": "70b9f18abcd0228b",
   "execution_count": 16
  },
  {
   "cell_type": "markdown",
   "source": [
    "remove the instances where Muster == 'Others' to remove the influence from Others category."
   ],
   "metadata": {
    "collapsed": false
   },
   "id": "93bd2dfb2e9eed77"
  },
  {
   "cell_type": "code",
   "outputs": [],
   "source": [
    "# strip the whitespaces in the 'Muster' column\n",
    "dataset['Muster'] = dataset['Muster'].str.strip()"
   ],
   "metadata": {
    "collapsed": false,
    "ExecuteTime": {
     "end_time": "2025-01-31T11:29:08.703840Z",
     "start_time": "2025-01-31T11:29:08.702937Z"
    }
   },
   "id": "c87570cac12eb918",
   "execution_count": 17
  },
  {
   "cell_type": "code",
   "outputs": [],
   "source": [
    "# remove the instances where Muster == 'Others'\n",
    "dataset = dataset[dataset['Muster'] != 'Others']"
   ],
   "metadata": {
    "collapsed": false,
    "ExecuteTime": {
     "end_time": "2025-01-31T11:29:21.471152Z",
     "start_time": "2025-01-31T11:29:21.464293Z"
    }
   },
   "id": "9fb6cfa76ef8c931",
   "execution_count": 19
  },
  {
   "cell_type": "code",
   "outputs": [
    {
     "name": "stdout",
     "output_type": "stream",
     "text": [
      "The missing values in the dataset after removing the instances with Muster == 'Others' and Dump Date as missing values are: \n",
      "Dump Date                      0\n",
      "Vehicle No                     5\n",
      "Out Time                       8\n",
      "SOW Wastage Amount (Kg)     1006\n",
      "MSW Wastage Amount (Kg)      665\n",
      "Induastrial Wastage (Kg)    1665\n",
      "Other Amount (Kg)           1664\n",
      "Remarks                     1631\n",
      "Bill No                        4\n",
      "Muster                         4\n",
      "Route                          4\n",
      "dtype: int64\n"
     ]
    }
   ],
   "source": [
    "# check the missing values in the dataset after removing the instances with Muster == 'Others' and Dump Date as missing values\n",
    "print(\"The missing values in the dataset after removing the instances with Muster == 'Others' and Dump Date as missing values are: \")\n",
    "print(dataset.isnull().sum())"
   ],
   "metadata": {
    "collapsed": false,
    "ExecuteTime": {
     "end_time": "2025-01-31T11:30:33.509249Z",
     "start_time": "2025-01-31T11:30:33.504701Z"
    }
   },
   "id": "8045722e567f5792",
   "execution_count": 20
  },
  {
   "cell_type": "code",
   "outputs": [
    {
     "data": {
      "text/plain": "2024-09-14 00:00:00    98\n2024-09-07 00:00:00    93\n2024-09-25 00:00:00    92\n2024-09-04 00:00:00    90\n2024-09-28 00:00:00    90\n2024-09-11 00:00:00    86\n2024-09-19 00:00:00    85\n2024-09-26 00:00:00    75\n2024-09-20 00:00:00    75\n2024-09-05 00:00:00    70\n2024-09-02 00:00:00    69\n2024-09-09 00:00:00    69\n2024-09-30 00:00:00    67\n2024-09-12 00:00:00    62\n2024-09-27 00:00:00    61\n2024-09-18 00:00:00    61\n2024-09-03 00:00:00    61\n2024-09-13 00:00:00    59\n2024-09-06 00:00:00    58\n2024-09-16 00:00:00    56\n2024-09-10 00:00:00    53\n2024-09-24 00:00:00    53\n2024-09-23 00:00:00    46\n2024-09-21 00:00:00    33\nTotal                   1\nTatol (SOW + MSW)       1\nPercentage Of SOW       1\nFully Total             1\nName: Dump Date, dtype: int64"
     },
     "execution_count": 21,
     "metadata": {},
     "output_type": "execute_result"
    }
   ],
   "source": [
    "# check the instance for Dump Date \n",
    "dataset['Dump Date'].value_counts()"
   ],
   "metadata": {
    "collapsed": false,
    "ExecuteTime": {
     "end_time": "2025-01-31T11:31:21.344745Z",
     "start_time": "2025-01-31T11:31:21.336288Z"
    }
   },
   "id": "69b56b9662e7545c",
   "execution_count": 21
  },
  {
   "cell_type": "code",
   "outputs": [],
   "source": [
    "# transform the 'Dump Date' column to datetime format\n",
    "dataset['Dump Date'] = pd.to_datetime(dataset['Dump Date'], errors='coerce')"
   ],
   "metadata": {
    "collapsed": false,
    "ExecuteTime": {
     "end_time": "2025-01-31T11:31:52.965952Z",
     "start_time": "2025-01-31T11:31:52.952486Z"
    }
   },
   "id": "afc9bd1d2f6656dd",
   "execution_count": 22
  },
  {
   "cell_type": "code",
   "outputs": [
    {
     "data": {
      "text/plain": "2024-09-14    98\n2024-09-07    93\n2024-09-25    92\n2024-09-04    90\n2024-09-28    90\n2024-09-11    86\n2024-09-19    85\n2024-09-20    75\n2024-09-26    75\n2024-09-05    70\n2024-09-02    69\n2024-09-09    69\n2024-09-30    67\n2024-09-12    62\n2024-09-03    61\n2024-09-18    61\n2024-09-27    61\n2024-09-13    59\n2024-09-06    58\n2024-09-16    56\n2024-09-24    53\n2024-09-10    53\n2024-09-23    46\n2024-09-21    33\nName: Dump Date, dtype: int64"
     },
     "execution_count": 23,
     "metadata": {},
     "output_type": "execute_result"
    }
   ],
   "source": [
    "# check the instance for Dump Date after transforming to datetime format\n",
    "dataset['Dump Date'].value_counts()\n"
   ],
   "metadata": {
    "collapsed": false,
    "ExecuteTime": {
     "end_time": "2025-01-31T11:32:01.808828Z",
     "start_time": "2025-01-31T11:32:01.798079Z"
    }
   },
   "id": "981db16ba42d045d",
   "execution_count": 23
  },
  {
   "cell_type": "code",
   "outputs": [],
   "source": [
    "# normalize the 'Dump Date' column\n",
    "dataset['Dump Date'] = dataset['Dump Date'].dt.normalize()"
   ],
   "metadata": {
    "collapsed": false,
    "ExecuteTime": {
     "end_time": "2025-01-31T11:32:17.343287Z",
     "start_time": "2025-01-31T11:32:17.333147Z"
    }
   },
   "id": "909f68be99b302bf",
   "execution_count": 24
  },
  {
   "cell_type": "code",
   "outputs": [
    {
     "name": "stdout",
     "output_type": "stream",
     "text": [
      "The missing values in the dataset after normalizing the 'Dump Date' column are: \n",
      "Dump Date                      4\n",
      "Vehicle No                     5\n",
      "Out Time                       8\n",
      "SOW Wastage Amount (Kg)     1006\n",
      "MSW Wastage Amount (Kg)      665\n",
      "Induastrial Wastage (Kg)    1665\n",
      "Other Amount (Kg)           1664\n",
      "Remarks                     1631\n",
      "Bill No                        4\n",
      "Muster                         4\n",
      "Route                          4\n",
      "dtype: int64\n"
     ]
    }
   ],
   "source": [
    "# check the missing values\n",
    "print(\"The missing values in the dataset after normalizing the 'Dump Date' column are: \")\n",
    "print(dataset.isnull().sum())"
   ],
   "metadata": {
    "collapsed": false,
    "ExecuteTime": {
     "end_time": "2025-01-31T11:33:13.973969Z",
     "start_time": "2025-01-31T11:33:13.967400Z"
    }
   },
   "id": "c1c3d4ebc85e11d3",
   "execution_count": 25
  },
  {
   "cell_type": "code",
   "outputs": [],
   "source": [
    "# remove the instances with missing values in the 'Dump Date' column\n",
    "dataset = dataset.dropna(subset=['Dump Date'])"
   ],
   "metadata": {
    "collapsed": false,
    "ExecuteTime": {
     "end_time": "2025-01-31T11:33:26.559447Z",
     "start_time": "2025-01-31T11:33:26.547709Z"
    }
   },
   "id": "1561dc182eedc126",
   "execution_count": 26
  },
  {
   "cell_type": "code",
   "outputs": [
    {
     "name": "stdout",
     "output_type": "stream",
     "text": [
      "The missing values in the dataset after removing the instances with missing values in the 'Dump Date' column are: \n",
      "Dump Date                      0\n",
      "Vehicle No                     1\n",
      "Out Time                       4\n",
      "SOW Wastage Amount (Kg)     1003\n",
      "MSW Wastage Amount (Kg)      664\n",
      "Induastrial Wastage (Kg)    1662\n",
      "Other Amount (Kg)           1662\n",
      "Remarks                     1627\n",
      "Bill No                        1\n",
      "Muster                         0\n",
      "Route                          0\n",
      "dtype: int64\n"
     ]
    }
   ],
   "source": [
    "# check the missing values\n",
    "print(\"The missing values in the dataset after removing the instances with missing values in the 'Dump Date' column are: \")\n",
    "print(dataset.isnull().sum())\n"
   ],
   "metadata": {
    "collapsed": false,
    "ExecuteTime": {
     "end_time": "2025-01-31T11:33:35.650504Z",
     "start_time": "2025-01-31T11:33:35.649069Z"
    }
   },
   "id": "13326cbef0424284",
   "execution_count": 27
  },
  {
   "cell_type": "code",
   "outputs": [],
   "source": [
    "# order the dataset by 'Dump Date'\n",
    "dataset = dataset.sort_values(by='Dump Date')   "
   ],
   "metadata": {
    "collapsed": false,
    "ExecuteTime": {
     "end_time": "2025-01-31T11:34:34.524121Z",
     "start_time": "2025-01-31T11:34:34.516081Z"
    }
   },
   "id": "e615b7db13debfd4",
   "execution_count": 29
  },
  {
   "cell_type": "code",
   "outputs": [
    {
     "name": "stdout",
     "output_type": "stream",
     "text": [
      "      Dump Date Vehicle No  Out Time  SOW Wastage Amount (Kg)  \\\n",
      "1    2024-09-02    ZA-6994  13:05:00                      NaN   \n",
      "1319 2024-09-02    RD-8430  17:17:00                      NaN   \n",
      "60   2024-09-02    LM-5359  14:21:00                   2780.0   \n",
      "1318 2024-09-02    RD-8430  13:37:00                   1060.0   \n",
      "1317 2024-09-02    LM-5361  13:36:00                   1380.0   \n",
      "...         ...        ...       ...                      ...   \n",
      "1013 2024-09-09    LK-2677  13:55:00                   1480.0   \n",
      "406  2024-09-09    LK-2687  11:36:00                   3210.0   \n",
      "405  2024-09-09    RD-1607  13:22:00                      NaN   \n",
      "404  2024-09-09    RD-1607  10:30:00                      NaN   \n",
      "196  2024-09-09    RD-8432  13:33:00                   2100.0   \n",
      "\n",
      "      MSW Wastage Amount (Kg)  Induastrial Wastage (Kg)  Other Amount (Kg)  \\\n",
      "1                      3620.0                       NaN                NaN   \n",
      "1319                    990.0                       NaN                NaN   \n",
      "60                        NaN                       NaN                NaN   \n",
      "1318                      NaN                       NaN                NaN   \n",
      "1317                      NaN                       NaN                NaN   \n",
      "...                       ...                       ...                ...   \n",
      "1013                      NaN                       NaN                NaN   \n",
      "406                       NaN                       NaN                NaN   \n",
      "405                     970.0                       NaN                NaN   \n",
      "404                    1750.0                       NaN                NaN   \n",
      "196                       NaN                       NaN                NaN   \n",
      "\n",
      "     Remarks Bill No         Muster                Route  \n",
      "1        NaN  605770       Kohuwala        01 - Vilawala  \n",
      "1319     NaN  605897       Attidiya  21 - Attidiya North  \n",
      "60       NaN  605815       Kohuwala        03 - Kohuwala  \n",
      "1318     NaN  605792       Attidiya  21 - Attidiya North  \n",
      "1317     NaN  605790       Attidiya  21 - Attidiya North  \n",
      "...      ...     ...            ...                  ...  \n",
      "1013     NaN  607173            R01       22- Wathumulla  \n",
      "406      NaN  607105  Dehiwala Town   08 - Dehiwala West  \n",
      "405      NaN  607140  Dehiwala Town   08 - Dehiwala West  \n",
      "404      NaN  607076  Dehiwala Town   08 - Dehiwala West  \n",
      "196      NaN  607154       Nedimala        11 - Nedimala  \n",
      "\n",
      "[500 rows x 11 columns]\n"
     ]
    }
   ],
   "source": [
    "# print the first 500 rows of the dataset \n",
    "print(dataset.head(500))"
   ],
   "metadata": {
    "collapsed": false,
    "ExecuteTime": {
     "end_time": "2025-01-31T11:34:52.723903Z",
     "start_time": "2025-01-31T11:34:52.712764Z"
    }
   },
   "id": "34a512c043fbad3c",
   "execution_count": 30
  },
  {
   "cell_type": "code",
   "outputs": [],
   "source": [],
   "metadata": {
    "collapsed": false
   },
   "id": "568e47b1b079b4cd"
  }
 ],
 "metadata": {
  "kernelspec": {
   "display_name": "Python 3",
   "language": "python",
   "name": "python3"
  },
  "language_info": {
   "codemirror_mode": {
    "name": "ipython",
    "version": 2
   },
   "file_extension": ".py",
   "mimetype": "text/x-python",
   "name": "python",
   "nbconvert_exporter": "python",
   "pygments_lexer": "ipython2",
   "version": "2.7.6"
  }
 },
 "nbformat": 4,
 "nbformat_minor": 5
}
