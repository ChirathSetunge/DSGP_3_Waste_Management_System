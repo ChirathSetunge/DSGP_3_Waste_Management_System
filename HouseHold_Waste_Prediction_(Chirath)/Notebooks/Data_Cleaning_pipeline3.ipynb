{
 "cells": [
  {
   "cell_type": "code",
   "execution_count": 27,
   "id": "initial_id",
   "metadata": {
    "collapsed": true,
    "ExecuteTime": {
     "end_time": "2025-02-07T12:17:17.241889Z",
     "start_time": "2025-02-07T12:17:17.229721Z"
    }
   },
   "outputs": [],
   "source": [
    "# import libraries\n",
    "import pandas as pd\n",
    "import numpy as np\n",
    "import matplotlib.pyplot as plt\n",
    "import seaborn as sns"
   ]
  },
  {
   "cell_type": "code",
   "outputs": [],
   "source": [
    "# Load the data\n",
    "dataset = pd.read_csv('/Users/chirath/Python/IIT/Waste_Management_System-DSGP-/ALL/Dataset22-24_cleaned.csv')"
   ],
   "metadata": {
    "collapsed": false,
    "ExecuteTime": {
     "end_time": "2025-02-07T12:17:17.286836Z",
     "start_time": "2025-02-07T12:17:17.239811Z"
    }
   },
   "id": "690cfadc1cf018d2",
   "execution_count": 28
  },
  {
   "cell_type": "code",
   "outputs": [
    {
     "name": "stdout",
     "output_type": "stream",
     "text": [
      "    Dump Date             Route    Muster  SOW Wastage Amount (Kg)  \\\n",
      "0  2022-01-01     01 - VILAWALA  KOHUWALA                   3200.0   \n",
      "1  2022-01-01   02 - DUTUGAMUNU  KOHUWALA                   1820.0   \n",
      "2  2022-01-01  02/03 - EKABADDA  KOHUWALA                   2150.0   \n",
      "3  2022-01-01     03 - KOHUWALA  KOHUWALA                   3480.0   \n",
      "4  2022-01-01   04 - KALUBOWILA  NEDIMALA                   2380.0   \n",
      "\n",
      "   MSW Wastage Amount (Kg)  \n",
      "0                      0.0  \n",
      "1                      0.0  \n",
      "2                    970.0  \n",
      "3                      0.0  \n",
      "4                      0.0  \n"
     ]
    }
   ],
   "source": [
    "# Display the first 5 rows of the dataset\n",
    "print(dataset.head())"
   ],
   "metadata": {
    "collapsed": false,
    "ExecuteTime": {
     "end_time": "2025-02-07T12:17:17.299797Z",
     "start_time": "2025-02-07T12:17:17.295407Z"
    }
   },
   "id": "478f2fa6988697e5",
   "execution_count": 29
  },
  {
   "cell_type": "code",
   "outputs": [
    {
     "name": "stdout",
     "output_type": "stream",
     "text": [
      "The number of rows in the dataset is:  24181\n",
      "The number of columns in the dataset is:  5\n"
     ]
    }
   ],
   "source": [
    "# identify the shape of the dataset\n",
    "print(\"The number of rows in the dataset is: \", dataset.shape[0])\n",
    "print(\"The number of columns in the dataset is: \", dataset.shape[1])"
   ],
   "metadata": {
    "collapsed": false,
    "ExecuteTime": {
     "end_time": "2025-02-07T12:17:17.310289Z",
     "start_time": "2025-02-07T12:17:17.301517Z"
    }
   },
   "id": "71ff40b8d7eff054",
   "execution_count": 30
  },
  {
   "cell_type": "code",
   "outputs": [
    {
     "name": "stdout",
     "output_type": "stream",
     "text": [
      "Dump Date                   object\n",
      "Route                       object\n",
      "Muster                      object\n",
      "SOW Wastage Amount (Kg)    float64\n",
      "MSW Wastage Amount (Kg)    float64\n",
      "dtype: object\n"
     ]
    }
   ],
   "source": [
    "# identify the data types of the columns (features)\n",
    "print(dataset.dtypes)  "
   ],
   "metadata": {
    "collapsed": false,
    "ExecuteTime": {
     "end_time": "2025-02-07T12:17:17.319064Z",
     "start_time": "2025-02-07T12:17:17.309522Z"
    }
   },
   "id": "9c8701707a3c9231",
   "execution_count": 31
  },
  {
   "cell_type": "code",
   "outputs": [],
   "source": [
    "# convert the 'Dump Date' column to datetime format\n",
    "dataset['Dump Date'] = pd.to_datetime(dataset['Dump Date'])"
   ],
   "metadata": {
    "collapsed": false,
    "ExecuteTime": {
     "end_time": "2025-02-07T12:17:17.368357Z",
     "start_time": "2025-02-07T12:17:17.319662Z"
    }
   },
   "id": "33b9231da1b84bc0",
   "execution_count": 32
  },
  {
   "cell_type": "code",
   "outputs": [
    {
     "name": "stdout",
     "output_type": "stream",
     "text": [
      "Dump Date                  datetime64[ns]\n",
      "Route                              object\n",
      "Muster                             object\n",
      "SOW Wastage Amount (Kg)           float64\n",
      "MSW Wastage Amount (Kg)           float64\n",
      "dtype: object\n"
     ]
    }
   ],
   "source": [
    "# identify the data types of the columns (features) after converting 'Dump Date' to datetime format\n",
    "print(dataset.dtypes)"
   ],
   "metadata": {
    "collapsed": false,
    "ExecuteTime": {
     "end_time": "2025-02-07T12:17:17.368962Z",
     "start_time": "2025-02-07T12:17:17.329378Z"
    }
   },
   "id": "4ba30f044188947",
   "execution_count": 33
  },
  {
   "cell_type": "code",
   "outputs": [
    {
     "name": "stderr",
     "output_type": "stream",
     "text": [
      "/var/folders/tt/5yrxvg9j67b87ts0381v3w7h0000gn/T/ipykernel_79804/2967592777.py:5: FutureWarning: Series.dt.weekofyear and Series.dt.week have been deprecated.  Please use Series.dt.isocalendar().week instead.\n",
      "  dataset['Week Number'] = dataset['Dump Date'].dt.week\n"
     ]
    }
   ],
   "source": [
    "# add new columns as 'Year', 'Month', 'Day of the week', Week Number'\n",
    "dataset['Year'] = dataset['Dump Date'].dt.year\n",
    "dataset['Month'] = dataset['Dump Date'].dt.month\n",
    "dataset['Day of the week'] = dataset['Dump Date'].dt.dayofweek\n",
    "dataset['Week Number'] = dataset['Dump Date'].dt.week"
   ],
   "metadata": {
    "collapsed": false,
    "ExecuteTime": {
     "end_time": "2025-02-07T12:18:04.578823Z",
     "start_time": "2025-02-07T12:18:04.561812Z"
    }
   },
   "id": "98eb01395dee1b37",
   "execution_count": 34
  },
  {
   "cell_type": "code",
   "outputs": [],
   "source": [],
   "metadata": {
    "collapsed": false,
    "ExecuteTime": {
     "end_time": "2025-02-07T12:17:17.398358Z",
     "start_time": "2025-02-07T12:17:17.341433Z"
    }
   },
   "id": "e6ce768b447c7e83",
   "execution_count": 33
  },
  {
   "cell_type": "code",
   "outputs": [],
   "source": [],
   "metadata": {
    "collapsed": false,
    "ExecuteTime": {
     "end_time": "2025-02-07T12:17:17.399024Z",
     "start_time": "2025-02-07T12:17:17.346306Z"
    }
   },
   "id": "9d89937cc2a4be98",
   "execution_count": 33
  },
  {
   "cell_type": "code",
   "outputs": [],
   "source": [],
   "metadata": {
    "collapsed": false,
    "ExecuteTime": {
     "end_time": "2025-02-07T12:17:17.399765Z",
     "start_time": "2025-02-07T12:17:17.350089Z"
    }
   },
   "id": "1bbee5acd3ca896f",
   "execution_count": 33
  }
 ],
 "metadata": {
  "kernelspec": {
   "name": "ml",
   "language": "python",
   "display_name": "Python (ml)"
  },
  "language_info": {
   "codemirror_mode": {
    "name": "ipython",
    "version": 2
   },
   "file_extension": ".py",
   "mimetype": "text/x-python",
   "name": "python",
   "nbconvert_exporter": "python",
   "pygments_lexer": "ipython2",
   "version": "2.7.6"
  }
 },
 "nbformat": 4,
 "nbformat_minor": 5
}
