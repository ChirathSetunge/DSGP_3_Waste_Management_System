{
 "cells": [
  {
   "cell_type": "code",
   "execution_count": null,
   "metadata": {},
   "outputs": [],
   "source": [
    "import pandas as pd\n",
    "\n",
    "df = pd.read_excel(\"/Users/chirath/Python/IIT/DSGP/2023/January Report.xlsx\")\n"
   ]
  },
  {
   "cell_type": "code",
   "execution_count": null,
   "metadata": {},
   "outputs": [],
   "source": [
    "print(df.head(10))"
   ]
  },
  {
   "cell_type": "code",
   "execution_count": null,
   "metadata": {},
   "outputs": [],
   "source": [
    "# Define the columns (drop unecessary columns)\n",
    "columns_to_drop = ['Vehicle No', 'Out Time', 'Remarks', 'Bill No', 'Induastrial Wastage (Kg)', 'Other Amount (Kg)', 'Remarks']\n",
    "\n",
    "# Drop the specified columns from the dataframe\n",
    "df = df.drop(columns=columns_to_drop)\n",
    "\n",
    "print(df.head(10))"
   ]
  },
  {
   "cell_type": "code",
   "execution_count": null,
   "metadata": {},
   "outputs": [],
   "source": [
    "# Convert 'Dump Date' column to datetime format\n",
    "df['Dump Date'] = pd.to_datetime(df['Dump Date'], errors='coerce')\n",
    "\n",
    "# Extract the day name from 'Dump Date' and create a new column 'Day'\n",
    "df['Day'] = df['Dump Date'].dt.day_name()\n",
    "\n",
    "# Extract calendar week number from 'Dump Date' and create a new column 'Week Number'\n",
    "df['Week Number'] = df['Dump Date'].dt.isocalendar().week\n",
    "\n",
    "print(df.head(50))"
   ]
  },
  {
   "cell_type": "code",
   "execution_count": null,
   "metadata": {},
   "outputs": [],
   "source": [
    "# Convert 'SOW and MSW' column to numeric, coercing errors to NaN\n",
    "df['SOW Wastage Amount (Kg)'] = pd.to_numeric(df['SOW Wastage Amount (Kg)'], errors='coerce')\n",
    "df['MSW Wastage Amount (Kg)'] = pd.to_numeric(df['MSW Wastage Amount (Kg)'], errors='coerce')\n",
    "\n",
    "# Group by 'Dump Date', 'Route', 'Muster', 'Day', and 'Week Number', then sum the wastage amounts\n",
    "df_grouped = df.groupby(['Dump Date', 'Route', 'Muster', 'Day', 'Week Number']).agg({\n",
    "    'SOW Wastage Amount (Kg)': 'sum',\n",
    "    'MSW Wastage Amount (Kg)': 'sum'\n",
    "}).reset_index()\n",
    "\n"
   ]
  },
  {
   "cell_type": "code",
   "execution_count": null,
   "metadata": {},
   "outputs": [],
   "source": [
    "# Print the grouped dataframe\n",
    "print(df_grouped)"
   ]
  }
 ],
 "metadata": {
  "kernelspec": {
   "display_name": "ml",
   "language": "python",
   "name": "python3"
  },
  "language_info": {
   "name": "python",
   "version": "3.12.4"
  }
 },
 "nbformat": 4,
 "nbformat_minor": 2
}
