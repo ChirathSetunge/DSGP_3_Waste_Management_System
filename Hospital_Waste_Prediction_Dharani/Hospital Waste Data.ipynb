{
 "cells": [
  {
   "cell_type": "code",
   "id": "initial_id",
   "metadata": {
    "collapsed": true,
    "ExecuteTime": {
     "end_time": "2024-12-20T13:47:33.879979Z",
     "start_time": "2024-12-20T13:47:15.882016Z"
    }
   },
   "source": [
    "import numpy as np\n",
    "import pandas as pd\n",
    "import os\n",
    "\n",
    "# Load the dataset\n",
    "dataset = pd.read_excel('C:\\DSGP\\Making\\FinalDSGP.xlsx')  # Update the file name to match your uploaded file if necessary\n",
    "\n",
    "# Display initial rows and dataset info\n",
    "print(dataset.head())\n",
    "print(dataset.info())\n",
    "\n",
    "# Check and handle missing values\n",
    "print(\"Missing values per column:\")\n",
    "print(dataset.isnull().sum())\n",
    "\n",
    "# Drop rows with missing values\n",
    "dataset.dropna(inplace=True)\n",
    "\n",
    "# Replace missing values (if you decide not to drop them)\n",
    "from sklearn.impute import SimpleImputer\n",
    "imputer = SimpleImputer(missing_values=np.nan, strategy='mean')\n",
    "numeric_columns = dataset.select_dtypes(include=[np.number]).columns  # Select only numeric columns\n",
    "dataset[numeric_columns] = imputer.fit_transform(dataset[numeric_columns])\n",
    "\n",
    "# Extract additional date features\n",
    "if 'Dump Date' in dataset.columns:\n",
    "    dataset['Dump Date'] = pd.to_datetime(dataset['Dump Date'], errors='coerce')  # Ensure proper datetime format\n",
    "    dataset['Day of the Week'] = dataset['Dump Date'].dt.day_name()\n",
    "    dataset['Month Name'] = dataset['Dump Date'].dt.month_name()\n",
    "    dataset['Quarter'] = dataset['Dump Date'].dt.quarter\n",
    "\n",
    "# Display updated dataset\n",
    "print(dataset.head())\n"
   ],
   "outputs": [
    {
     "name": "stderr",
     "output_type": "stream",
     "text": [
      "<>:6: SyntaxWarning: invalid escape sequence '\\D'\n",
      "<>:6: SyntaxWarning: invalid escape sequence '\\D'\n",
      "C:\\Users\\ASUS\\AppData\\Local\\Temp\\ipykernel_18032\\515115877.py:6: SyntaxWarning: invalid escape sequence '\\D'\n",
      "  dataset = pd.read_excel('C:\\DSGP\\Making\\FinalDSGP.xlsx')  # Update the file name to match your uploaded file if necessary\n"
     ]
    },
    {
     "name": "stdout",
     "output_type": "stream",
     "text": [
      "   Dump Date  waste weight\n",
      "0 2020-10-05          2000\n",
      "1 2020-10-06          1250\n",
      "2 2020-10-07           980\n",
      "3 2020-10-09          1760\n",
      "4 2020-10-10          1940\n",
      "<class 'pandas.core.frame.DataFrame'>\n",
      "RangeIndex: 946 entries, 0 to 945\n",
      "Data columns (total 2 columns):\n",
      " #   Column        Non-Null Count  Dtype         \n",
      "---  ------        --------------  -----         \n",
      " 0   Dump Date     946 non-null    datetime64[ns]\n",
      " 1   waste weight  946 non-null    int64         \n",
      "dtypes: datetime64[ns](1), int64(1)\n",
      "memory usage: 14.9 KB\n",
      "None\n",
      "Missing values per column:\n",
      "Dump Date       0\n",
      "waste weight    0\n",
      "dtype: int64\n",
      "   Dump Date  waste weight Day of the Week Month Name  Quarter\n",
      "0 2020-10-05        2000.0          Monday    October        4\n",
      "1 2020-10-06        1250.0         Tuesday    October        4\n",
      "2 2020-10-07         980.0       Wednesday    October        4\n",
      "3 2020-10-09        1760.0          Friday    October        4\n",
      "4 2020-10-10        1940.0        Saturday    October        4\n"
     ]
    }
   ],
   "execution_count": 2
  }
 ],
 "metadata": {
  "kernelspec": {
   "display_name": "Python 3",
   "language": "python",
   "name": "python3"
  },
  "language_info": {
   "codemirror_mode": {
    "name": "ipython",
    "version": 2
   },
   "file_extension": ".py",
   "mimetype": "text/x-python",
   "name": "python",
   "nbconvert_exporter": "python",
   "pygments_lexer": "ipython2",
   "version": "2.7.6"
  }
 },
 "nbformat": 4,
 "nbformat_minor": 5
}
