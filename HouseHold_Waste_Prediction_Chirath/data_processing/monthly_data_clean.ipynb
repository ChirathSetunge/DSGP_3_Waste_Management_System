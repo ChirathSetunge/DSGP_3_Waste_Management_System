{
 "cells": [
  {
   "cell_type": "code",
   "execution_count": 14,
   "id": "initial_id",
   "metadata": {
    "collapsed": true,
    "ExecuteTime": {
     "end_time": "2024-12-17T19:03:14.038293Z",
     "start_time": "2024-12-17T19:03:14.015656Z"
    }
   },
   "outputs": [],
   "source": [
    "# Importing libraries\n",
    "import pandas as pd"
   ]
  },
  {
   "cell_type": "code",
   "outputs": [
    {
     "name": "stdout",
     "output_type": "stream",
     "text": [
      "             Dump Date Vehicle No  Out Time SOW Wastage Amount (Kg)  \\\n",
      "0                  NaN        NaN       NaN                     NaN   \n",
      "1  2023-01-02 00:00:00    ZA-6994  13:16:00                     NaN   \n",
      "2  2023-01-03 00:00:00    ZA-6994  13:06:00                    4900   \n",
      "3  2023-01-05 00:00:00    ZA-6994  12:10:00                    2380   \n",
      "4  2023-01-07 00:00:00    ZA-6994  10:28:00                     NaN   \n",
      "\n",
      "   MSW Wastage Amount (Kg)  Induastrial Wastage (Kg)  Other Amount (Kg)  \\\n",
      "0                      NaN                       NaN                NaN   \n",
      "1                   2810.0                       NaN                NaN   \n",
      "2                      NaN                       NaN                NaN   \n",
      "3                      NaN                       NaN                NaN   \n",
      "4                   2750.0                       NaN                NaN   \n",
      "\n",
      "  Remarks   Bill No    Muster          Route  \n",
      "0     NaN       NaN       NaN            NaN  \n",
      "1     NaN  498035.0  Kohuwala  01 - Vilawala  \n",
      "2     NaN  498216.0  Kohuwala  01 - Vilawala  \n",
      "3     NaN  498419.0  Kohuwala  01 - Vilawala  \n",
      "4     NaN  498662.0  Kohuwala  01 - Vilawala  \n"
     ]
    }
   ],
   "source": [
    "# Reading the data\n",
    "df = pd.read_excel(\"/Users/chirath/Python/IIT/DSGP Practice/2023/January Report.xlsx\")\n",
    "print(df.head())"
   ],
   "metadata": {
    "collapsed": false,
    "ExecuteTime": {
     "end_time": "2024-12-17T19:03:14.197255Z",
     "start_time": "2024-12-17T19:03:14.021048Z"
    }
   },
   "id": "a0b1767312908e04",
   "execution_count": 15
  },
  {
   "cell_type": "code",
   "outputs": [
    {
     "name": "stdout",
     "output_type": "stream",
     "text": [
      "             Dump Date SOW Wastage Amount (Kg)  MSW Wastage Amount (Kg)  \\\n",
      "0                  NaN                     NaN                      NaN   \n",
      "1  2023-01-02 00:00:00                     NaN                   2810.0   \n",
      "2  2023-01-03 00:00:00                    4900                      NaN   \n",
      "3  2023-01-05 00:00:00                    2380                      NaN   \n",
      "4  2023-01-07 00:00:00                     NaN                   2750.0   \n",
      "5  2023-01-07 00:00:00                     NaN                   2920.0   \n",
      "6  2023-01-09 00:00:00                     NaN                   2530.0   \n",
      "7  2023-01-09 00:00:00                     NaN                   1740.0   \n",
      "8  2023-01-10 00:00:00                     NaN                   2650.0   \n",
      "9  2023-01-12 00:00:00                    5860                      NaN   \n",
      "\n",
      "     Muster          Route  \n",
      "0       NaN            NaN  \n",
      "1  Kohuwala  01 - Vilawala  \n",
      "2  Kohuwala  01 - Vilawala  \n",
      "3  Kohuwala  01 - Vilawala  \n",
      "4  Kohuwala  01 - Vilawala  \n",
      "5  Kohuwala  01 - Vilawala  \n",
      "6  Kohuwala  01 - Vilawala  \n",
      "7  Kohuwala  01 - Vilawala  \n",
      "8  Kohuwala  01 - Vilawala  \n",
      "9  Kohuwala  01 - Vilawala  \n"
     ]
    }
   ],
   "source": [
    "# Dropping unnecessary columns\n",
    "columns_to_drop = ['Vehicle No', 'Out Time', 'Remarks', 'Bill No', 'Induastrial Wastage (Kg)', 'Other Amount (Kg)', 'Remarks']\n",
    "df = df.drop(columns=columns_to_drop)\n",
    "print(df.head(10))"
   ],
   "metadata": {
    "collapsed": false,
    "ExecuteTime": {
     "end_time": "2024-12-17T19:03:14.203741Z",
     "start_time": "2024-12-17T19:03:14.197958Z"
    }
   },
   "id": "538e252e73bcfec5",
   "execution_count": 16
  },
  {
   "cell_type": "code",
   "outputs": [
    {
     "name": "stdout",
     "output_type": "stream",
     "text": [
      "    Dump Date SOW Wastage Amount (Kg)  MSW Wastage Amount (Kg)    Muster  \\\n",
      "0         NaT                     NaN                      NaN       NaN   \n",
      "1  2023-01-02                     NaN                   2810.0  Kohuwala   \n",
      "2  2023-01-03                    4900                      NaN  Kohuwala   \n",
      "3  2023-01-05                    2380                      NaN  Kohuwala   \n",
      "4  2023-01-07                     NaN                   2750.0  Kohuwala   \n",
      "5  2023-01-07                     NaN                   2920.0  Kohuwala   \n",
      "6  2023-01-09                     NaN                   2530.0  Kohuwala   \n",
      "7  2023-01-09                     NaN                   1740.0  Kohuwala   \n",
      "8  2023-01-10                     NaN                   2650.0  Kohuwala   \n",
      "9  2023-01-12                    5860                      NaN  Kohuwala   \n",
      "10 2023-01-13                     NaN                   3040.0  Kohuwala   \n",
      "11 2023-01-13                     NaN                   1990.0  Kohuwala   \n",
      "12 2023-01-16                    4460                      NaN  Kohuwala   \n",
      "13 2023-01-17                     NaN                   2350.0  Kohuwala   \n",
      "14 2023-01-17                     NaN                   2790.0  Kohuwala   \n",
      "15 2023-01-19                    4480                      NaN  Kohuwala   \n",
      "16 2023-01-20                     NaN                   3190.0  Kohuwala   \n",
      "17 2023-01-20                     NaN                   2520.0  Kohuwala   \n",
      "18 2023-01-23                    3760                      NaN  Kohuwala   \n",
      "19 2023-01-24                     NaN                   3480.0  Kohuwala   \n",
      "20 2023-01-24                     NaN                   3220.0  Kohuwala   \n",
      "21 2023-01-26                    4870                      NaN  Kohuwala   \n",
      "22 2023-01-27                     NaN                   3370.0  Kohuwala   \n",
      "23 2023-01-27                     NaN                   2120.0  Kohuwala   \n",
      "24 2023-01-30                    4270                      NaN  Kohuwala   \n",
      "25 2023-01-31                     NaN                   1970.0  Kohuwala   \n",
      "26 2023-01-31                     NaN                   2290.0  Kohuwala   \n",
      "27        NaT                     NaN                      NaN       NaN   \n",
      "28 2023-01-02                     NaN                    950.0  Kohuwala   \n",
      "29 2023-01-02                     NaN                   1320.0  Kohuwala   \n",
      "30 2023-01-03                     NaN                   1870.0  Kohuwala   \n",
      "31 2023-01-05                     NaN                   1420.0  Kohuwala   \n",
      "32 2023-01-05                     NaN                   1690.0  Kohuwala   \n",
      "33 2023-01-07                     NaN                    970.0  Kohuwala   \n",
      "34 2023-01-07                     NaN                   1530.0  Kohuwala   \n",
      "35 2023-01-09                    3370                      NaN  Kohuwala   \n",
      "36 2023-01-10                    2400                      NaN  Kohuwala   \n",
      "37 2023-01-11                     NaN                   1320.0  Kohuwala   \n",
      "38 2023-01-12                     NaN                   1320.0  Kohuwala   \n",
      "39 2023-01-12                     NaN                   1160.0  Kohuwala   \n",
      "40 2023-01-13                     NaN                   2160.0  Kohuwala   \n",
      "41 2023-01-16                     NaN                   2300.0  Kohuwala   \n",
      "42 2023-01-16                     NaN                   1350.0  Kohuwala   \n",
      "43 2023-01-17                    2140                      NaN  Kohuwala   \n",
      "44 2023-01-19                     NaN                   2540.0  Kohuwala   \n",
      "45 2023-01-19                     NaN                   1780.0  Kohuwala   \n",
      "46 2023-01-20                    1850                      NaN  Kohuwala   \n",
      "47 2023-01-24                    2820                      NaN  Kohuwala   \n",
      "48 2023-01-25                     NaN                   1710.0  Kohuwala   \n",
      "49 2023-01-25                     NaN                   2280.0  Kohuwala   \n",
      "\n",
      "              Route        Day  Week Number  \n",
      "0               NaN        NaN         <NA>  \n",
      "1     01 - Vilawala     Monday            1  \n",
      "2     01 - Vilawala    Tuesday            1  \n",
      "3     01 - Vilawala   Thursday            1  \n",
      "4     01 - Vilawala   Saturday            1  \n",
      "5     01 - Vilawala   Saturday            1  \n",
      "6     01 - Vilawala     Monday            2  \n",
      "7     01 - Vilawala     Monday            2  \n",
      "8     01 - Vilawala    Tuesday            2  \n",
      "9     01 - Vilawala   Thursday            2  \n",
      "10    01 - Vilawala     Friday            2  \n",
      "11    01 - Vilawala     Friday            2  \n",
      "12    01 - Vilawala     Monday            3  \n",
      "13    01 - Vilawala    Tuesday            3  \n",
      "14    01 - Vilawala    Tuesday            3  \n",
      "15    01 - Vilawala   Thursday            3  \n",
      "16    01 - Vilawala     Friday            3  \n",
      "17    01 - Vilawala     Friday            3  \n",
      "18    01 - Vilawala     Monday            4  \n",
      "19    01 - Vilawala    Tuesday            4  \n",
      "20    01 - Vilawala    Tuesday            4  \n",
      "21    01 - Vilawala   Thursday            4  \n",
      "22    01 - Vilawala     Friday            4  \n",
      "23    01 - Vilawala     Friday            4  \n",
      "24    01 - Vilawala     Monday            5  \n",
      "25    01 - Vilawala    Tuesday            5  \n",
      "26    01 - Vilawala    Tuesday            5  \n",
      "27              NaN        NaN         <NA>  \n",
      "28  02 - Dutugamunu     Monday            1  \n",
      "29  02 - Dutugamunu     Monday            1  \n",
      "30  02 - Dutugamunu    Tuesday            1  \n",
      "31  02 - Dutugamunu   Thursday            1  \n",
      "32  02 - Dutugamunu   Thursday            1  \n",
      "33  02 - Dutugamunu   Saturday            1  \n",
      "34  02 - Dutugamunu   Saturday            1  \n",
      "35  02 - Dutugamunu     Monday            2  \n",
      "36  02 - Dutugamunu    Tuesday            2  \n",
      "37  02 - Dutugamunu  Wednesday            2  \n",
      "38  02 - Dutugamunu   Thursday            2  \n",
      "39  02 - Dutugamunu   Thursday            2  \n",
      "40  02 - Dutugamunu     Friday            2  \n",
      "41  02 - Dutugamunu     Monday            3  \n",
      "42  02 - Dutugamunu     Monday            3  \n",
      "43  02 - Dutugamunu    Tuesday            3  \n",
      "44  02 - Dutugamunu   Thursday            3  \n",
      "45  02 - Dutugamunu   Thursday            3  \n",
      "46  02 - Dutugamunu     Friday            3  \n",
      "47  02 - Dutugamunu    Tuesday            4  \n",
      "48  02 - Dutugamunu  Wednesday            4  \n",
      "49  02 - Dutugamunu  Wednesday            4  \n"
     ]
    }
   ],
   "source": [
    "# converting the data types\n",
    "df['Dump Date'] = pd.to_datetime(df['Dump Date'], errors='coerce')\n",
    "# creating new columns for day and week number\n",
    "df['Day'] = df['Dump Date'].dt.day_name()\n",
    "df['Week Number'] = df['Dump Date'].dt.isocalendar().week\n",
    "print(df.head(50))"
   ],
   "metadata": {
    "collapsed": false,
    "ExecuteTime": {
     "end_time": "2024-12-17T19:03:14.275201Z",
     "start_time": "2024-12-17T19:03:14.204024Z"
    }
   },
   "id": "9d4f58eff120159f",
   "execution_count": 17
  },
  {
   "cell_type": "code",
   "outputs": [
    {
     "name": "stdout",
     "output_type": "stream",
     "text": [
      "              Dump Date                      Route    Muster      Day  \\\n",
      "0   2023-01-02 00:00:00              01 - Vilawala  Kohuwala   Monday   \n",
      "1   2023-01-02 00:00:00            02 - Dutugamunu  Kohuwala   Monday   \n",
      "2   2023-01-02 00:00:00           02/03 - Ekabadda  Kohuwala   Monday   \n",
      "3   2023-01-02 00:00:00              03 - Kohuwala  Kohuwala   Monday   \n",
      "4   2023-01-02 00:00:00            04 - Kalubowila  Nedimala   Monday   \n",
      "..                  ...                        ...       ...      ...   \n",
      "709 2023-01-31 00:00:00            29 B - Borupana      R 02  Tuesday   \n",
      "710 2023-01-31 00:00:00        Kalubowila Hospital    Others  Tuesday   \n",
      "711 2023-01-31 00:00:00                       Meat    Others  Tuesday   \n",
      "712 2023-01-31 00:00:00                      Night    Others  Tuesday   \n",
      "713 2023-01-31 14:35:12  Ratmalana Economic Centre    Others  Tuesday   \n",
      "\n",
      "     Week Number  SOW Wastage Amount (Kg)  MSW Wastage Amount (Kg)  \n",
      "0              1                      0.0                   2810.0  \n",
      "1              1                      0.0                   2270.0  \n",
      "2              1                   1620.0                   5480.0  \n",
      "3              1                   4050.0                      0.0  \n",
      "4              1                    760.0                    710.0  \n",
      "..           ...                      ...                      ...  \n",
      "709            5                   3270.0                   4120.0  \n",
      "710            5                      0.0                   1340.0  \n",
      "711            5                      0.0                      0.0  \n",
      "712            5                   1870.0                   1600.0  \n",
      "713            5                    180.0                      0.0  \n",
      "\n",
      "[714 rows x 7 columns]\n"
     ]
    }
   ],
   "source": [
    "# converting the wastage amounts to numeric\n",
    "df['SOW Wastage Amount (Kg)'] = pd.to_numeric(df['SOW Wastage Amount (Kg)'], errors='coerce')\n",
    "# Group and sum the wastage amounts\n",
    "df_grouped = df.groupby(['Dump Date', 'Route', 'Muster', 'Day', 'Week Number']).agg({\n",
    "    'SOW Wastage Amount (Kg)': 'sum',\n",
    "    'MSW Wastage Amount (Kg)': 'sum'\n",
    "}).reset_index()\n",
    "print(df_grouped)"
   ],
   "metadata": {
    "collapsed": false,
    "ExecuteTime": {
     "end_time": "2024-12-17T19:03:14.276279Z",
     "start_time": "2024-12-17T19:03:14.227732Z"
    }
   },
   "id": "2de221d82c65d4b4",
   "execution_count": 18
  },
  {
   "cell_type": "code",
   "outputs": [],
   "source": [],
   "metadata": {
    "collapsed": false,
    "ExecuteTime": {
     "end_time": "2024-12-17T19:03:14.276536Z",
     "start_time": "2024-12-17T19:03:14.242572Z"
    }
   },
   "id": "264b50f2d6443c46",
   "execution_count": 18
  }
 ],
 "metadata": {
  "kernelspec": {
   "name": "ml",
   "language": "python",
   "display_name": "Python (ml)"
  },
  "language_info": {
   "codemirror_mode": {
    "name": "ipython",
    "version": 2
   },
   "file_extension": ".py",
   "mimetype": "text/x-python",
   "name": "python",
   "nbconvert_exporter": "python",
   "pygments_lexer": "ipython2",
   "version": "2.7.6"
  }
 },
 "nbformat": 4,
 "nbformat_minor": 5
}
