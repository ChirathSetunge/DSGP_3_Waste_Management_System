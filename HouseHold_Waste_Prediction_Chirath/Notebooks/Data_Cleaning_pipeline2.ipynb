{
 "cells": [
  {
   "cell_type": "code",
   "execution_count": 28,
   "id": "initial_id",
   "metadata": {
    "collapsed": true,
    "ExecuteTime": {
     "end_time": "2025-02-05T15:59:20.680835Z",
     "start_time": "2025-02-05T15:59:20.677931Z"
    }
   },
   "outputs": [],
   "source": [
    "# load the library\n",
    "import numpy as np\n",
    "import pandas as pd\n",
    "import matplotlib.pyplot as plt\n",
    "import seaborn as sns"
   ]
  },
  {
   "cell_type": "code",
   "outputs": [],
   "source": [
    "# load the data\n",
    "dataset = pd.read_excel('/Users/chirath/Python/IIT/Waste_Management_System-DSGP-/ALL/Dataset22-24.xlsx')\n",
    "  "
   ],
   "metadata": {
    "collapsed": false,
    "ExecuteTime": {
     "end_time": "2025-02-05T15:59:24.377156Z",
     "start_time": "2025-02-05T15:59:21.348069Z"
    }
   },
   "id": "1f1b1497cb76dbca",
   "execution_count": 29
  },
  {
   "cell_type": "code",
   "outputs": [
    {
     "data": {
      "text/plain": "   Dump Date Vehicle No  Out Time SOW Wastage Amount (Kg)  \\\n0 2022-01-01    ZA-6994  13:55:00                    3200   \n1 2022-01-01    RD-1607  12:24:00                    2480   \n2 2022-01-01    RC-8872  13:24:00                    2380   \n3 2022-01-01   226-2064  09:42:00                     NaN   \n4 2022-01-01    49-6548  13:04:00                    1190   \n\n  MSW Wastage Amount (Kg)  Induastrial Wastage (Kg) Other Amount (Kg) Remarks  \\\n0                     NaN                       NaN               NaN     NaN   \n1                     NaN                       NaN               NaN     NaN   \n2                     NaN                       NaN               NaN     NaN   \n3                    1180                       NaN               NaN     NaN   \n4                     NaN                       NaN               NaN     NaN   \n\n  Bill No         Muster                Route  \n0  437978       KOHUWALA        01 - VILAWALA  \n1  437917  DEHIWALA TOWN   08 - DEHIWALA WEST  \n2  437950  DEHIWALA TOWN   08 - DEHIWALA WEST  \n3  437855  DEHIWALA TOWN         07 - GALWALA  \n4  437938       ATTIDIYA  25 - ATTIDIYA SOUTH  ",
      "text/html": "<div>\n<style scoped>\n    .dataframe tbody tr th:only-of-type {\n        vertical-align: middle;\n    }\n\n    .dataframe tbody tr th {\n        vertical-align: top;\n    }\n\n    .dataframe thead th {\n        text-align: right;\n    }\n</style>\n<table border=\"1\" class=\"dataframe\">\n  <thead>\n    <tr style=\"text-align: right;\">\n      <th></th>\n      <th>Dump Date</th>\n      <th>Vehicle No</th>\n      <th>Out Time</th>\n      <th>SOW Wastage Amount (Kg)</th>\n      <th>MSW Wastage Amount (Kg)</th>\n      <th>Induastrial Wastage (Kg)</th>\n      <th>Other Amount (Kg)</th>\n      <th>Remarks</th>\n      <th>Bill No</th>\n      <th>Muster</th>\n      <th>Route</th>\n    </tr>\n  </thead>\n  <tbody>\n    <tr>\n      <th>0</th>\n      <td>2022-01-01</td>\n      <td>ZA-6994</td>\n      <td>13:55:00</td>\n      <td>3200</td>\n      <td>NaN</td>\n      <td>NaN</td>\n      <td>NaN</td>\n      <td>NaN</td>\n      <td>437978</td>\n      <td>KOHUWALA</td>\n      <td>01 - VILAWALA</td>\n    </tr>\n    <tr>\n      <th>1</th>\n      <td>2022-01-01</td>\n      <td>RD-1607</td>\n      <td>12:24:00</td>\n      <td>2480</td>\n      <td>NaN</td>\n      <td>NaN</td>\n      <td>NaN</td>\n      <td>NaN</td>\n      <td>437917</td>\n      <td>DEHIWALA TOWN</td>\n      <td>08 - DEHIWALA WEST</td>\n    </tr>\n    <tr>\n      <th>2</th>\n      <td>2022-01-01</td>\n      <td>RC-8872</td>\n      <td>13:24:00</td>\n      <td>2380</td>\n      <td>NaN</td>\n      <td>NaN</td>\n      <td>NaN</td>\n      <td>NaN</td>\n      <td>437950</td>\n      <td>DEHIWALA TOWN</td>\n      <td>08 - DEHIWALA WEST</td>\n    </tr>\n    <tr>\n      <th>3</th>\n      <td>2022-01-01</td>\n      <td>226-2064</td>\n      <td>09:42:00</td>\n      <td>NaN</td>\n      <td>1180</td>\n      <td>NaN</td>\n      <td>NaN</td>\n      <td>NaN</td>\n      <td>437855</td>\n      <td>DEHIWALA TOWN</td>\n      <td>07 - GALWALA</td>\n    </tr>\n    <tr>\n      <th>4</th>\n      <td>2022-01-01</td>\n      <td>49-6548</td>\n      <td>13:04:00</td>\n      <td>1190</td>\n      <td>NaN</td>\n      <td>NaN</td>\n      <td>NaN</td>\n      <td>NaN</td>\n      <td>437938</td>\n      <td>ATTIDIYA</td>\n      <td>25 - ATTIDIYA SOUTH</td>\n    </tr>\n  </tbody>\n</table>\n</div>"
     },
     "execution_count": 30,
     "metadata": {},
     "output_type": "execute_result"
    }
   ],
   "source": [
    "# load the data\n",
    "dataset.head()"
   ],
   "metadata": {
    "collapsed": false,
    "ExecuteTime": {
     "end_time": "2025-02-05T15:59:25.960031Z",
     "start_time": "2025-02-05T15:59:25.905683Z"
    }
   },
   "id": "841d481ee3eae34d",
   "execution_count": 30
  },
  {
   "cell_type": "code",
   "outputs": [
    {
     "data": {
      "text/plain": "       Dump Date Vehicle No  Out Time SOW Wastage Amount (Kg)  \\\n55170 2024-09-30   226-2046  09:56:00                    2840   \n55171 2024-09-30   226-2046  15:18:00                     NaN   \n55172 2024-09-30   226-2064  16:38:00                    2270   \n55173 2024-09-30    RA-9799  12:45:00                     NaN   \n55174 2024-09-30    49-6544  15:38:00                    1480   \n\n      MSW Wastage Amount (Kg)  Induastrial Wastage (Kg) Other Amount (Kg)  \\\n55170                     NaN                       NaN               NaN   \n55171                    1350                       NaN               NaN   \n55172                     NaN                       NaN               NaN   \n55173                    1240                       NaN               NaN   \n55174                     NaN                       NaN               NaN   \n\n                  Remarks Bill No         Muster               Route  \n55170  Karagampitiya Pola  610891  KARAGAMPITIYA       12 - MALWATTA  \n55171                 NaN  611019  KARAGAMPITIYA       12 - MALWATTA  \n55172                 NaN  611059  DEHIWALA TOWN        07 - GALWALA  \n55173                 NaN  610947  KARAGAMPITIYA  14 - KARAGAMPITIYA  \n55174                 NaN  611024           R 02      29B - BORUPANA  ",
      "text/html": "<div>\n<style scoped>\n    .dataframe tbody tr th:only-of-type {\n        vertical-align: middle;\n    }\n\n    .dataframe tbody tr th {\n        vertical-align: top;\n    }\n\n    .dataframe thead th {\n        text-align: right;\n    }\n</style>\n<table border=\"1\" class=\"dataframe\">\n  <thead>\n    <tr style=\"text-align: right;\">\n      <th></th>\n      <th>Dump Date</th>\n      <th>Vehicle No</th>\n      <th>Out Time</th>\n      <th>SOW Wastage Amount (Kg)</th>\n      <th>MSW Wastage Amount (Kg)</th>\n      <th>Induastrial Wastage (Kg)</th>\n      <th>Other Amount (Kg)</th>\n      <th>Remarks</th>\n      <th>Bill No</th>\n      <th>Muster</th>\n      <th>Route</th>\n    </tr>\n  </thead>\n  <tbody>\n    <tr>\n      <th>55170</th>\n      <td>2024-09-30</td>\n      <td>226-2046</td>\n      <td>09:56:00</td>\n      <td>2840</td>\n      <td>NaN</td>\n      <td>NaN</td>\n      <td>NaN</td>\n      <td>Karagampitiya Pola</td>\n      <td>610891</td>\n      <td>KARAGAMPITIYA</td>\n      <td>12 - MALWATTA</td>\n    </tr>\n    <tr>\n      <th>55171</th>\n      <td>2024-09-30</td>\n      <td>226-2046</td>\n      <td>15:18:00</td>\n      <td>NaN</td>\n      <td>1350</td>\n      <td>NaN</td>\n      <td>NaN</td>\n      <td>NaN</td>\n      <td>611019</td>\n      <td>KARAGAMPITIYA</td>\n      <td>12 - MALWATTA</td>\n    </tr>\n    <tr>\n      <th>55172</th>\n      <td>2024-09-30</td>\n      <td>226-2064</td>\n      <td>16:38:00</td>\n      <td>2270</td>\n      <td>NaN</td>\n      <td>NaN</td>\n      <td>NaN</td>\n      <td>NaN</td>\n      <td>611059</td>\n      <td>DEHIWALA TOWN</td>\n      <td>07 - GALWALA</td>\n    </tr>\n    <tr>\n      <th>55173</th>\n      <td>2024-09-30</td>\n      <td>RA-9799</td>\n      <td>12:45:00</td>\n      <td>NaN</td>\n      <td>1240</td>\n      <td>NaN</td>\n      <td>NaN</td>\n      <td>NaN</td>\n      <td>610947</td>\n      <td>KARAGAMPITIYA</td>\n      <td>14 - KARAGAMPITIYA</td>\n    </tr>\n    <tr>\n      <th>55174</th>\n      <td>2024-09-30</td>\n      <td>49-6544</td>\n      <td>15:38:00</td>\n      <td>1480</td>\n      <td>NaN</td>\n      <td>NaN</td>\n      <td>NaN</td>\n      <td>NaN</td>\n      <td>611024</td>\n      <td>R 02</td>\n      <td>29B - BORUPANA</td>\n    </tr>\n  </tbody>\n</table>\n</div>"
     },
     "execution_count": 31,
     "metadata": {},
     "output_type": "execute_result"
    }
   ],
   "source": [
    "dataset.tail()"
   ],
   "metadata": {
    "collapsed": false,
    "ExecuteTime": {
     "end_time": "2025-02-05T15:59:27.599023Z",
     "start_time": "2025-02-05T15:59:27.574860Z"
    }
   },
   "id": "9a2c68f72a3de459",
   "execution_count": 31
  },
  {
   "cell_type": "code",
   "outputs": [
    {
     "name": "stdout",
     "output_type": "stream",
     "text": [
      "The number of rows in the dataset is:  55175\n",
      "The number of columns in the dataset is:  11\n"
     ]
    }
   ],
   "source": [
    "# identify the number of rows and columns\n",
    "print(\"The number of rows in the dataset is: \", dataset.shape[0])\n",
    "print(\"The number of columns in the dataset is: \", dataset.shape[1])"
   ],
   "metadata": {
    "collapsed": false,
    "ExecuteTime": {
     "end_time": "2025-02-05T15:59:31.033378Z",
     "start_time": "2025-02-05T15:59:31.022960Z"
    }
   },
   "id": "303f5e2ada968e5e",
   "execution_count": 32
  },
  {
   "cell_type": "code",
   "outputs": [
    {
     "name": "stdout",
     "output_type": "stream",
     "text": [
      "The data types of the columns in the january 2023 dataset are: \n",
      "Dump Date                   datetime64[ns]\n",
      "Vehicle No                          object\n",
      "Out Time                            object\n",
      "SOW Wastage Amount (Kg)             object\n",
      "MSW Wastage Amount (Kg)             object\n",
      "Induastrial Wastage (Kg)           float64\n",
      "Other Amount (Kg)                   object\n",
      "Remarks                             object\n",
      "Bill No                             object\n",
      "Muster                              object\n",
      "Route                               object\n",
      "dtype: object\n"
     ]
    }
   ],
   "source": [
    "#identify the data types of the columns (features)\n",
    "print(\"The data types of the columns in the january 2023 dataset are: \")\n",
    "print(dataset.dtypes)"
   ],
   "metadata": {
    "collapsed": false,
    "ExecuteTime": {
     "end_time": "2025-02-05T15:59:31.453484Z",
     "start_time": "2025-02-05T15:59:31.431829Z"
    }
   },
   "id": "67a77606299b9a0b",
   "execution_count": 33
  },
  {
   "cell_type": "code",
   "outputs": [
    {
     "name": "stdout",
     "output_type": "stream",
     "text": [
      "Dump Date: yes\n",
      "Vehicle No: yes\n",
      "Out Time: yes\n",
      "SOW Wastage Amount (Kg): yes\n",
      "MSW Wastage Amount (Kg): yes\n",
      "Induastrial Wastage (Kg): yes\n",
      "Other Amount (Kg): yes\n",
      "Remarks: yes\n",
      "Bill No: yes\n",
      "Muster: yes\n",
      "Route: yes\n"
     ]
    }
   ],
   "source": [
    "# Define the default columns\n",
    "default_columns = [\n",
    "    'Dump Date', 'Vehicle No', 'Out Time', 'SOW Wastage Amount (Kg)', \n",
    "    'MSW Wastage Amount (Kg)', 'Induastrial Wastage (Kg)', 'Other Amount (Kg)', \n",
    "    'Remarks', 'Bill No', 'Muster', 'Route'\n",
    "]\n",
    "\n",
    "# Function to check if columns exist in the dataset\n",
    "def check_columns_exist(df, columns):\n",
    "    for column in columns:\n",
    "        if column in df.columns:\n",
    "            print(f\"{column}: yes\")\n",
    "        else:\n",
    "            print(f\"{column}: no\")\n",
    "\n",
    "check_columns_exist(dataset, default_columns)"
   ],
   "metadata": {
    "collapsed": false,
    "ExecuteTime": {
     "end_time": "2025-02-05T15:59:31.852763Z",
     "start_time": "2025-02-05T15:59:31.842607Z"
    }
   },
   "id": "61d53226346feecc",
   "execution_count": 34
  },
  {
   "cell_type": "code",
   "outputs": [
    {
     "name": "stdout",
     "output_type": "stream",
     "text": [
      "Dump Date                   datetime64[ns]\n",
      "Vehicle No                          object\n",
      "Out Time                            object\n",
      "SOW Wastage Amount (Kg)             object\n",
      "MSW Wastage Amount (Kg)             object\n",
      "Induastrial Wastage (Kg)           float64\n",
      "Other Amount (Kg)                   object\n",
      "Remarks                             object\n",
      "Bill No                             object\n",
      "Muster                              object\n",
      "Route                               object\n",
      "dtype: object\n"
     ]
    }
   ],
   "source": [
    "# Keep only the default columns\n",
    "dataset = dataset[default_columns]\n",
    "print(dataset.dtypes)"
   ],
   "metadata": {
    "collapsed": false,
    "ExecuteTime": {
     "end_time": "2025-02-05T15:59:32.431478Z",
     "start_time": "2025-02-05T15:59:32.411247Z"
    }
   },
   "id": "b758c51d3d6816b",
   "execution_count": 35
  },
  {
   "cell_type": "code",
   "outputs": [
    {
     "name": "stdout",
     "output_type": "stream",
     "text": [
      "The missing values in the  dataset are: \n",
      "Dump Date                       0\n",
      "Vehicle No                      9\n",
      "Out Time                     2014\n",
      "SOW Wastage Amount (Kg)     34905\n",
      "MSW Wastage Amount (Kg)     20455\n",
      "Induastrial Wastage (Kg)    55160\n",
      "Other Amount (Kg)           55075\n",
      "Remarks                     54205\n",
      "Bill No                        42\n",
      "Muster                          8\n",
      "Route                           7\n",
      "dtype: int64\n"
     ]
    }
   ],
   "source": [
    "# indentify the missing values\n",
    "print(\"The missing values in the  dataset are: \")\n",
    "print(dataset.isnull().sum())"
   ],
   "metadata": {
    "collapsed": false,
    "ExecuteTime": {
     "end_time": "2025-02-05T15:59:33.023488Z",
     "start_time": "2025-02-05T15:59:33.003157Z"
    }
   },
   "id": "280c4e1145c03af5",
   "execution_count": 36
  },
  {
   "cell_type": "code",
   "outputs": [
    {
     "name": "stdout",
     "output_type": "stream",
     "text": [
      "The number of duplicate rows in the  dataset is:  1\n"
     ]
    },
    {
     "data": {
      "text/plain": "       Dump Date Vehicle No  Out Time SOW Wastage Amount (Kg)  \\\n40421 2023-02-01    LM-5358  12:53:00                     NaN   \n\n      MSW Wastage Amount (Kg)  Induastrial Wastage (Kg) Other Amount (Kg)  \\\n40421                    1490                       NaN               NaN   \n\n      Remarks Bill No    Muster            Route  \n40421     NaN  502074  KOHUWALA  02 - DUTUGAMUNU  ",
      "text/html": "<div>\n<style scoped>\n    .dataframe tbody tr th:only-of-type {\n        vertical-align: middle;\n    }\n\n    .dataframe tbody tr th {\n        vertical-align: top;\n    }\n\n    .dataframe thead th {\n        text-align: right;\n    }\n</style>\n<table border=\"1\" class=\"dataframe\">\n  <thead>\n    <tr style=\"text-align: right;\">\n      <th></th>\n      <th>Dump Date</th>\n      <th>Vehicle No</th>\n      <th>Out Time</th>\n      <th>SOW Wastage Amount (Kg)</th>\n      <th>MSW Wastage Amount (Kg)</th>\n      <th>Induastrial Wastage (Kg)</th>\n      <th>Other Amount (Kg)</th>\n      <th>Remarks</th>\n      <th>Bill No</th>\n      <th>Muster</th>\n      <th>Route</th>\n    </tr>\n  </thead>\n  <tbody>\n    <tr>\n      <th>40421</th>\n      <td>2023-02-01</td>\n      <td>LM-5358</td>\n      <td>12:53:00</td>\n      <td>NaN</td>\n      <td>1490</td>\n      <td>NaN</td>\n      <td>NaN</td>\n      <td>NaN</td>\n      <td>502074</td>\n      <td>KOHUWALA</td>\n      <td>02 - DUTUGAMUNU</td>\n    </tr>\n  </tbody>\n</table>\n</div>"
     },
     "execution_count": 37,
     "metadata": {},
     "output_type": "execute_result"
    }
   ],
   "source": [
    "# identify the duplicate rows in the dataset and what are them\n",
    "print(\"The number of duplicate rows in the  dataset is: \", dataset.duplicated().sum())\n",
    "dataset[dataset.duplicated()]"
   ],
   "metadata": {
    "collapsed": false,
    "ExecuteTime": {
     "end_time": "2025-02-05T15:59:33.871082Z",
     "start_time": "2025-02-05T15:59:33.806813Z"
    }
   },
   "id": "a155edec1bfa5b64",
   "execution_count": 37
  },
  {
   "cell_type": "code",
   "outputs": [],
   "source": [
    "# drop the duplicate rows\n",
    "dataset = dataset.drop_duplicates()"
   ],
   "metadata": {
    "collapsed": false,
    "ExecuteTime": {
     "end_time": "2025-02-05T15:59:34.229300Z",
     "start_time": "2025-02-05T15:59:34.188815Z"
    }
   },
   "id": "18e69dc8075cc605",
   "execution_count": 38
  },
  {
   "cell_type": "code",
   "outputs": [
    {
     "name": "stdout",
     "output_type": "stream",
     "text": [
      "The number of rows in the  dataset after removing duplicates is:  55174\n"
     ]
    }
   ],
   "source": [
    "# check the number of rows and columns after removing the duplicates\n",
    "print(\"The number of rows in the  dataset after removing duplicates is: \", dataset.shape[0])"
   ],
   "metadata": {
    "collapsed": false,
    "ExecuteTime": {
     "end_time": "2025-02-05T15:59:35.038634Z",
     "start_time": "2025-02-05T15:59:35.023433Z"
    }
   },
   "id": "3eeae673ac48e15a",
   "execution_count": 39
  },
  {
   "cell_type": "code",
   "outputs": [
    {
     "name": "stdout",
     "output_type": "stream",
     "text": [
      "The missing values in the dataset after removing duplicates are: \n"
     ]
    },
    {
     "data": {
      "text/plain": "Dump Date                       0\nVehicle No                      9\nOut Time                     2014\nSOW Wastage Amount (Kg)     34904\nMSW Wastage Amount (Kg)     20455\nInduastrial Wastage (Kg)    55159\nOther Amount (Kg)           55074\nRemarks                     54204\nBill No                        42\nMuster                          8\nRoute                           7\ndtype: int64"
     },
     "execution_count": 40,
     "metadata": {},
     "output_type": "execute_result"
    }
   ],
   "source": [
    "# check the missing values after removing the duplicates\n",
    "print(\"The missing values in the dataset after removing duplicates are: \")\n",
    "dataset.isnull().sum()"
   ],
   "metadata": {
    "collapsed": false,
    "ExecuteTime": {
     "end_time": "2025-02-05T15:59:36.655839Z",
     "start_time": "2025-02-05T15:59:36.648949Z"
    }
   },
   "id": "736638b3ac70ee66",
   "execution_count": 40
  },
  {
   "cell_type": "code",
   "outputs": [],
   "source": [
    "dataset['Muster'] = dataset['Muster'].str.strip()"
   ],
   "metadata": {
    "collapsed": false,
    "ExecuteTime": {
     "end_time": "2025-02-05T15:59:46.102459Z",
     "start_time": "2025-02-05T15:59:46.081731Z"
    }
   },
   "id": "7a2a9f66f3e701f6",
   "execution_count": 41
  },
  {
   "cell_type": "code",
   "outputs": [
    {
     "data": {
      "text/plain": "2024-03-27    102\n2024-01-17    101\n2024-06-19    101\n2024-02-03    101\n2022-08-18    100\n             ... \n2022-05-10      1\n2203-12-20      1\n2203-11-09      1\n2203-11-02      1\n2024-01-25      1\nName: Dump Date, Length: 867, dtype: int64"
     },
     "execution_count": 42,
     "metadata": {},
     "output_type": "execute_result"
    }
   ],
   "source": [
    "# check the instances for Dump Date\n",
    "dataset['Dump Date'].value_counts()"
   ],
   "metadata": {
    "collapsed": false,
    "ExecuteTime": {
     "end_time": "2025-02-05T15:59:46.840319Z",
     "start_time": "2025-02-05T15:59:46.809180Z"
    }
   },
   "id": "9206ca4bb88a893c",
   "execution_count": 42
  },
  {
   "cell_type": "markdown",
   "source": [
    "Attempting correct the miss typed dates "
   ],
   "metadata": {
    "collapsed": false
   },
   "id": "c92cc5626c441e73"
  },
  {
   "cell_type": "markdown",
   "source": [
    "2203 to 2023"
   ],
   "metadata": {
    "collapsed": false
   },
   "id": "15b0246e9bc73ad5"
  },
  {
   "cell_type": "code",
   "outputs": [
    {
     "data": {
      "text/plain": "19426"
     },
     "execution_count": 43,
     "metadata": {},
     "output_type": "execute_result"
    }
   ],
   "source": [
    "dataset['Dump Date'].astype(str).str.contains('2023').sum()"
   ],
   "metadata": {
    "collapsed": false,
    "ExecuteTime": {
     "end_time": "2025-02-05T15:59:49.608504Z",
     "start_time": "2025-02-05T15:59:49.348810Z"
    }
   },
   "id": "d2d7fc91c9bacbea",
   "execution_count": 43
  },
  {
   "cell_type": "code",
   "outputs": [
    {
     "data": {
      "text/plain": "25"
     },
     "execution_count": 44,
     "metadata": {},
     "output_type": "execute_result"
    }
   ],
   "source": [
    "# how many dates are there in the dataset that from year 2203\n",
    "dataset['Dump Date'].astype(str).str.contains('2203').sum()"
   ],
   "metadata": {
    "collapsed": false,
    "ExecuteTime": {
     "end_time": "2025-02-05T15:59:50.507747Z",
     "start_time": "2025-02-05T15:59:50.250691Z"
    }
   },
   "id": "b93721e93ef6e908",
   "execution_count": 44
  },
  {
   "cell_type": "code",
   "outputs": [
    {
     "name": "stdout",
     "output_type": "stream",
     "text": [
      "2024-03-27    102\n",
      "2024-01-17    101\n",
      "2024-06-19    101\n",
      "2023-10-18    101\n",
      "2024-02-03    101\n",
      "             ... \n",
      "2001-07-18      1\n",
      "2022-10-12      1\n",
      "2025-01-05      1\n",
      "2204-01-13      1\n",
      "2024-01-25      1\n",
      "Name: Dump Date, Length: 849, dtype: int64\n"
     ]
    }
   ],
   "source": [
    "# Correct the year from 2203 to 2023\n",
    "dataset['Dump Date'] = pd.to_datetime(dataset['Dump Date'], errors='coerce')\n",
    "dataset.loc[dataset['Dump Date'].dt.year == 2203, 'Dump Date'] = dataset['Dump Date'].apply(lambda x: x.replace(year=2023) if pd.notnull(x) and x.year == 2203 else x)\n",
    "\n",
    "# Verify the correction\n",
    "print(dataset['Dump Date'].value_counts())"
   ],
   "metadata": {
    "collapsed": false,
    "ExecuteTime": {
     "end_time": "2025-02-05T15:59:51.555362Z",
     "start_time": "2025-02-05T15:59:51.311649Z"
    }
   },
   "id": "df21236bf103f381",
   "execution_count": 45
  },
  {
   "cell_type": "code",
   "outputs": [
    {
     "data": {
      "text/plain": "0"
     },
     "execution_count": 46,
     "metadata": {},
     "output_type": "execute_result"
    }
   ],
   "source": [
    "dataset['Dump Date'].astype(str).str.contains('2203').sum()"
   ],
   "metadata": {
    "collapsed": false,
    "ExecuteTime": {
     "end_time": "2025-02-05T15:59:52.574152Z",
     "start_time": "2025-02-05T15:59:52.316365Z"
    }
   },
   "id": "ff8304ca388f5900",
   "execution_count": 46
  },
  {
   "cell_type": "code",
   "outputs": [
    {
     "data": {
      "text/plain": "19451"
     },
     "execution_count": 47,
     "metadata": {},
     "output_type": "execute_result"
    }
   ],
   "source": [
    "dataset['Dump Date'].astype(str).str.contains('2023').sum()"
   ],
   "metadata": {
    "collapsed": false,
    "ExecuteTime": {
     "end_time": "2025-02-05T15:59:53.443950Z",
     "start_time": "2025-02-05T15:59:53.157789Z"
    }
   },
   "id": "9e71b1813996ef2c",
   "execution_count": 47
  },
  {
   "cell_type": "markdown",
   "source": [
    "2204 to 2024"
   ],
   "metadata": {
    "collapsed": false
   },
   "id": "f703fa87c606c65f"
  },
  {
   "cell_type": "code",
   "outputs": [
    {
     "data": {
      "text/plain": "16583"
     },
     "execution_count": 48,
     "metadata": {},
     "output_type": "execute_result"
    }
   ],
   "source": [
    "dataset['Dump Date'].astype(str).str.contains('2024').sum()"
   ],
   "metadata": {
    "collapsed": false,
    "ExecuteTime": {
     "end_time": "2025-02-05T15:59:54.609176Z",
     "start_time": "2025-02-05T15:59:54.357693Z"
    }
   },
   "id": "d82f64d5089c1abd",
   "execution_count": 48
  },
  {
   "cell_type": "code",
   "outputs": [
    {
     "data": {
      "text/plain": "74"
     },
     "execution_count": 49,
     "metadata": {},
     "output_type": "execute_result"
    }
   ],
   "source": [
    "dataset['Dump Date'].astype(str).str.contains('2204').sum()"
   ],
   "metadata": {
    "collapsed": false,
    "ExecuteTime": {
     "end_time": "2025-02-05T15:59:55.302367Z",
     "start_time": "2025-02-05T15:59:55.044585Z"
    }
   },
   "id": "37f249da0a39eb29",
   "execution_count": 49
  },
  {
   "cell_type": "code",
   "outputs": [
    {
     "name": "stdout",
     "output_type": "stream",
     "text": [
      "2024-02-03    102\n",
      "2024-03-27    102\n",
      "2024-06-19    101\n",
      "2023-10-18    101\n",
      "2024-01-17    101\n",
      "             ... \n",
      "2022-08-27      1\n",
      "2022-08-17      1\n",
      "2022-05-10      1\n",
      "2025-01-05      1\n",
      "2022-07-06      1\n",
      "Name: Dump Date, Length: 825, dtype: int64\n"
     ]
    }
   ],
   "source": [
    "# Correct the year from 2204 to 2024\n",
    "dataset['Dump Date'] = pd.to_datetime(dataset['Dump Date'], errors='coerce')\n",
    "dataset.loc[dataset['Dump Date'].dt.year == 2204, 'Dump Date'] = dataset['Dump Date'].apply(lambda x: x.replace(year=2024) if pd.notnull(x) and x.year == 2204 else x)\n",
    "\n",
    "# Verify the correction\n",
    "print(dataset['Dump Date'].value_counts())"
   ],
   "metadata": {
    "collapsed": false,
    "ExecuteTime": {
     "end_time": "2025-02-05T15:59:55.979224Z",
     "start_time": "2025-02-05T15:59:55.819008Z"
    }
   },
   "id": "95fb5095ec162e09",
   "execution_count": 50
  },
  {
   "cell_type": "code",
   "outputs": [
    {
     "data": {
      "text/plain": "0"
     },
     "execution_count": 51,
     "metadata": {},
     "output_type": "execute_result"
    }
   ],
   "source": [
    "dataset['Dump Date'].astype(str).str.contains('2204').sum()"
   ],
   "metadata": {
    "collapsed": false,
    "ExecuteTime": {
     "end_time": "2025-02-05T15:59:57.267150Z",
     "start_time": "2025-02-05T15:59:57.009325Z"
    }
   },
   "id": "e087d42c58d0a26f",
   "execution_count": 51
  },
  {
   "cell_type": "code",
   "outputs": [
    {
     "data": {
      "text/plain": "16657"
     },
     "execution_count": 52,
     "metadata": {},
     "output_type": "execute_result"
    }
   ],
   "source": [
    "dataset['Dump Date'].astype(str).str.contains('2024').sum()"
   ],
   "metadata": {
    "collapsed": false,
    "ExecuteTime": {
     "end_time": "2025-02-05T15:59:58.069468Z",
     "start_time": "2025-02-05T15:59:57.769159Z"
    }
   },
   "id": "95dd929e4f6ffeaa",
   "execution_count": 52
  },
  {
   "cell_type": "code",
   "outputs": [
    {
     "name": "stdout",
     "output_type": "stream",
     "text": [
      "2024-02-03    102\n",
      "2024-03-27    102\n",
      "2024-06-19    101\n",
      "2023-10-18    101\n",
      "2024-01-17    101\n",
      "             ... \n",
      "2022-08-27      1\n",
      "2022-08-17      1\n",
      "2022-05-10      1\n",
      "2025-01-05      1\n",
      "2022-07-06      1\n",
      "Name: Dump Date, Length: 825, dtype: int64\n"
     ]
    }
   ],
   "source": [
    "print(dataset['Dump Date'].value_counts())"
   ],
   "metadata": {
    "collapsed": false,
    "ExecuteTime": {
     "end_time": "2025-02-05T15:59:58.582373Z",
     "start_time": "2025-02-05T15:59:58.571912Z"
    }
   },
   "id": "7680354c96b1857e",
   "execution_count": 53
  },
  {
   "cell_type": "code",
   "outputs": [
    {
     "data": {
      "text/plain": "1"
     },
     "execution_count": 54,
     "metadata": {},
     "output_type": "execute_result"
    }
   ],
   "source": [
    "dataset['Dump Date'].astype(str).str.contains('2025').sum()"
   ],
   "metadata": {
    "collapsed": false,
    "ExecuteTime": {
     "end_time": "2025-02-05T15:59:59.532775Z",
     "start_time": "2025-02-05T15:59:59.282035Z"
    }
   },
   "id": "bd186988dedd4ccf",
   "execution_count": 54
  },
  {
   "cell_type": "code",
   "outputs": [],
   "source": [
    "# remove the rows that contain the year 2025\n",
    "dataset = dataset[~dataset['Dump Date'].astype(str).str.contains('2025')]"
   ],
   "metadata": {
    "collapsed": false,
    "ExecuteTime": {
     "end_time": "2025-02-05T16:00:00.350464Z",
     "start_time": "2025-02-05T16:00:00.088196Z"
    }
   },
   "id": "e3e93a51e9bcf9d5",
   "execution_count": 55
  },
  {
   "cell_type": "code",
   "outputs": [
    {
     "name": "stdout",
     "output_type": "stream",
     "text": [
      "2024-02-03    102\n",
      "2024-03-27    102\n",
      "2024-06-19    101\n",
      "2023-10-18    101\n",
      "2024-01-17    101\n",
      "             ... \n",
      "2022-11-07      1\n",
      "2022-11-06      1\n",
      "2023-01-06      1\n",
      "2022-05-10      1\n",
      "2022-10-12      1\n",
      "Name: Dump Date, Length: 824, dtype: int64\n"
     ]
    }
   ],
   "source": [
    "print(dataset['Dump Date'].value_counts())"
   ],
   "metadata": {
    "collapsed": false,
    "ExecuteTime": {
     "end_time": "2025-02-05T16:00:00.968725Z",
     "start_time": "2025-02-05T16:00:00.959442Z"
    }
   },
   "id": "b3c5c055b71dd85e",
   "execution_count": 56
  },
  {
   "cell_type": "code",
   "outputs": [
    {
     "data": {
      "text/plain": "2"
     },
     "execution_count": 57,
     "metadata": {},
     "output_type": "execute_result"
    }
   ],
   "source": [
    "# remove the rows that contain the year 2001\n",
    "dataset['Dump Date'].astype(str).str.contains('2001').sum()"
   ],
   "metadata": {
    "collapsed": false,
    "ExecuteTime": {
     "end_time": "2025-02-05T16:00:01.980874Z",
     "start_time": "2025-02-05T16:00:01.725779Z"
    }
   },
   "id": "5f48be8a54ea2ce0",
   "execution_count": 57
  },
  {
   "cell_type": "code",
   "outputs": [],
   "source": [
    "# remove the rows that contain the year 2001\n",
    "dataset = dataset[~dataset['Dump Date'].astype(str).str.contains('2001')]"
   ],
   "metadata": {
    "collapsed": false,
    "ExecuteTime": {
     "end_time": "2025-02-05T16:00:02.726185Z",
     "start_time": "2025-02-05T16:00:02.463293Z"
    }
   },
   "id": "743f549a56ef2c59",
   "execution_count": 58
  },
  {
   "cell_type": "code",
   "outputs": [
    {
     "data": {
      "text/plain": "<Figure size 640x480 with 1 Axes>",
      "image/png": "[encoded data removed]"
     },
     "metadata": {},
     "output_type": "display_data"
    }
   ],
   "source": [
    "# check the instances for Dump Date using plot by year\n",
    "dataset['Dump Date'].dt.year.value_counts().sort_index().plot(kind='bar', color='skyblue')\n",
    "plt.xlabel('Year')\n",
    "plt.ylabel('Number of Instances')\n",
    "plt.title('Instances by Year')\n",
    "plt.show()"
   ],
   "metadata": {
    "collapsed": false,
    "ExecuteTime": {
     "end_time": "2025-02-05T16:00:03.435927Z",
     "start_time": "2025-02-05T16:00:03.306374Z"
    }
   },
   "id": "580f31b46221e71c",
   "execution_count": 59
  },
  {
   "cell_type": "code",
   "outputs": [
    {
     "name": "stdout",
     "output_type": "stream",
     "text": [
      "Dump Date                   datetime64[ns]\n",
      "Vehicle No                          object\n",
      "Out Time                            object\n",
      "SOW Wastage Amount (Kg)             object\n",
      "MSW Wastage Amount (Kg)             object\n",
      "Induastrial Wastage (Kg)           float64\n",
      "Other Amount (Kg)                   object\n",
      "Remarks                             object\n",
      "Bill No                             object\n",
      "Muster                              object\n",
      "Route                               object\n",
      "dtype: object\n"
     ]
    }
   ],
   "source": [
    "# dataset data types\n",
    "print(dataset.dtypes)"
   ],
   "metadata": {
    "collapsed": false,
    "ExecuteTime": {
     "end_time": "2025-02-05T16:00:04.942112Z",
     "start_time": "2025-02-05T16:00:04.923192Z"
    }
   },
   "id": "1cade92cdd68f2b6",
   "execution_count": 60
  },
  {
   "cell_type": "code",
   "outputs": [
    {
     "data": {
      "text/plain": "2024-02-03    102\n2024-03-27    102\n2024-06-19    101\n2024-01-17    101\n2023-10-18    101\n             ... \n2023-01-06      1\n2022-07-06      1\n2023-05-17      1\n2022-11-07      1\n2022-11-06      1\nName: Dump Date, Length: 822, dtype: int64"
     },
     "execution_count": 61,
     "metadata": {},
     "output_type": "execute_result"
    }
   ],
   "source": [
    "# check the instances for Dump Date\n",
    "dataset['Dump Date'].value_counts()"
   ],
   "metadata": {
    "collapsed": false,
    "ExecuteTime": {
     "end_time": "2025-02-05T16:00:08.650676Z",
     "start_time": "2025-02-05T16:00:08.629346Z"
    }
   },
   "id": "27002f0e93429917",
   "execution_count": 61
  },
  {
   "cell_type": "code",
   "outputs": [],
   "source": [
    "# set the time to 00:00:00 for each date\n",
    "dataset['Dump Date'] = dataset['Dump Date'].dt.normalize()"
   ],
   "metadata": {
    "collapsed": false,
    "ExecuteTime": {
     "end_time": "2025-02-05T16:00:09.162157Z",
     "start_time": "2025-02-05T16:00:09.156825Z"
    }
   },
   "id": "3f91099563f39dbb",
   "execution_count": 62
  },
  {
   "cell_type": "code",
   "outputs": [
    {
     "data": {
      "text/plain": "Dump Date                       0\nVehicle No                      9\nOut Time                     2014\nSOW Wastage Amount (Kg)     34904\nMSW Wastage Amount (Kg)     20452\nInduastrial Wastage (Kg)    55156\nOther Amount (Kg)           55071\nRemarks                     54201\nBill No                        42\nMuster                          8\nRoute                           7\ndtype: int64"
     },
     "execution_count": 63,
     "metadata": {},
     "output_type": "execute_result"
    }
   ],
   "source": [
    "dataset.isnull().sum()"
   ],
   "metadata": {
    "collapsed": false,
    "ExecuteTime": {
     "end_time": "2025-02-05T16:00:09.557733Z",
     "start_time": "2025-02-05T16:00:09.551042Z"
    }
   },
   "id": "4845058bf1653131",
   "execution_count": 63
  },
  {
   "cell_type": "code",
   "outputs": [],
   "source": [
    "# order the dataset by Dump Date\n",
    "dataset = dataset.sort_values(by='Dump Date')"
   ],
   "metadata": {
    "collapsed": false,
    "ExecuteTime": {
     "end_time": "2025-02-05T16:00:09.830820Z",
     "start_time": "2025-02-05T16:00:09.802222Z"
    }
   },
   "id": "20c805c47c5e57b0",
   "execution_count": 64
  },
  {
   "cell_type": "code",
   "outputs": [],
   "source": [
    "dataset['Muster'] = dataset['Muster'].str.strip()"
   ],
   "metadata": {
    "collapsed": false,
    "ExecuteTime": {
     "end_time": "2025-02-05T16:00:10.400928Z",
     "start_time": "2025-02-05T16:00:10.390330Z"
    }
   },
   "id": "72d06ee4a0741473",
   "execution_count": 65
  },
  {
   "cell_type": "code",
   "outputs": [
    {
     "data": {
      "text/plain": "R 02                8215\nR 01                5969\nBADOWITA            5234\nMOUNT LAVINIA       5208\nKOHUWALA            4767\nD 02 PARK           4578\nKARAGAMPITIYA       4202\nATTIDIYA            4093\nDEHIWALA TOWN       3486\nNEDIMALA            3380\nSARANANKARA         3228\nDEHIWALA MARKET     2291\nATTITIYA             127\nKARAGAMPIRIYA        113\nKOHUWANA             105\nMOUNT LAVNINA         99\nDEBHIWALA MARKET      61\nSARABABKARA            5\nDEHIWALA MERKET        1\nR 03                   1\nName: Muster, dtype: int64"
     },
     "execution_count": 66,
     "metadata": {},
     "output_type": "execute_result"
    }
   ],
   "source": [
    "# check the instances for Muster\n",
    "dataset['Muster'].value_counts()"
   ],
   "metadata": {
    "collapsed": false,
    "ExecuteTime": {
     "end_time": "2025-02-05T16:00:10.842913Z",
     "start_time": "2025-02-05T16:00:10.823819Z"
    }
   },
   "id": "23197476a267bbbc",
   "execution_count": 66
  },
  {
   "cell_type": "code",
   "outputs": [
    {
     "name": "stdout",
     "output_type": "stream",
     "text": [
      "R 02               8215\n",
      "R 01               5969\n",
      "MOUNT LAVINIA      5307\n",
      "BADOWITA           5234\n",
      "KOHUWALA           4872\n",
      "D 02 PARK          4578\n",
      "KARAGAMPITIYA      4315\n",
      "ATTIDIYA           4220\n",
      "DEHIWALA TOWN      3486\n",
      "NEDIMALA           3380\n",
      "SARANANKARA        3233\n",
      "DEHIWALA MARKET    2353\n",
      "R 03                  1\n",
      "Name: Muster, dtype: int64\n"
     ]
    }
   ],
   "source": [
    "muster_corrections = {\n",
    "    'KARAGAMPIRIYA': 'KARAGAMPITIYA',\n",
    "    'ATTITIYA': 'ATTIDIYA',\n",
    "    'MOUNT LAVNINA': 'MOUNT LAVINIA',\n",
    "    'KOHUWANA': 'KOHUWALA',\n",
    "    'SARABABKARA': 'SARANANKARA',\n",
    "    'DEHIWALA MERKET': 'DEHIWALA MARKET',\n",
    "    'DEBHIWALA MARKET': 'DEHIWALA MARKET'\n",
    "\n",
    "\n",
    "    \n",
    "\n",
    "}\n",
    "dataset['Muster'] = dataset['Muster'].replace(muster_corrections)\n",
    "\n",
    "# check the instances for Muster\n",
    "print(dataset['Muster'].value_counts())"
   ],
   "metadata": {
    "collapsed": false,
    "ExecuteTime": {
     "end_time": "2025-02-05T16:00:11.663881Z",
     "start_time": "2025-02-05T16:00:11.642749Z"
    }
   },
   "id": "3e9b5cdf56821cbc",
   "execution_count": 67
  },
  {
   "cell_type": "code",
   "outputs": [],
   "source": [
    "dataset['Route'] = dataset['Route'].str.strip()"
   ],
   "metadata": {
    "collapsed": false,
    "ExecuteTime": {
     "end_time": "2025-02-05T16:00:12.382440Z",
     "start_time": "2025-02-05T16:00:12.364132Z"
    }
   },
   "id": "ffb6d0e638b050",
   "execution_count": 68
  },
  {
   "cell_type": "code",
   "outputs": [
    {
     "data": {
      "text/plain": "20 - KATUKURUNDUWATTA    3299\n29B - BORUPANA           2585\n08 - DEHIWALA WEST       2437\n29A - KANDAWALA          2392\n13 - JAYATHILAKA         2354\n09 - DEHIWALA EAST       2270\n10 - UDYANAYA            2242\n23 - WEDIKANDA           2219\n11 - NEDIMALA            2136\n21 - ATTIDIYA NORTH      2124\n16 - KAWDANA WEST        2112\n25 - ATTIDIYA SOUTH      2096\n19 - WATARAPPOLA         2070\n14 - KARAGAMPITIYA       2021\n02/03 - EKABADDA         1967\n15B - KAWDANA EAST       1935\n18 - VIDYALAYA           1467\n04 - KALUBOWILA          1211\n28 - RATMALANA EAST      1181\n05/06 - EKABADDA         1173\n12 - MALWATTA            1150\n24 - PIRIVENA            1150\n15A - KAWDANA EAST       1144\n22 - WATHUMULLA          1136\n06 - SARANANKARA         1112\n17 - GALKISSA            1088\n07 - GALWALA             1048\n26 - VIHARA              1033\n27 - RATMALANA WEST       989\n03 - KOHUWALA             964\n01 - VILAWALA             955\n05 - HATHBODIYA           948\n02 - DUTUGAMUNU           681\n02 DUTUGEMUNU             206\n09 DENIWALA EAST           66\n01 - VILAVALA              37\n17- GALKISSA               37\n26 VIHARA                  34\n02 DUTUGEMUN               33\n04 & 11 EKABADDA           31\n02  DUTUGEMUNU             28\n04/11 EKABADDA              2\n02/EKABADDA                 1\nName: Route, dtype: int64"
     },
     "execution_count": 69,
     "metadata": {},
     "output_type": "execute_result"
    }
   ],
   "source": [
    "dataset['Route'].value_counts()"
   ],
   "metadata": {
    "collapsed": false,
    "ExecuteTime": {
     "end_time": "2025-02-05T16:00:13.024262Z",
     "start_time": "2025-02-05T16:00:13.019580Z"
    }
   },
   "id": "6018961c0757d055",
   "execution_count": 69
  },
  {
   "cell_type": "code",
   "outputs": [
    {
     "name": "stdout",
     "output_type": "stream",
     "text": [
      "20 - KATUKURUNDUWATTA    3299\n",
      "29B - BORUPANA           2585\n",
      "08 - DEHIWALA WEST       2437\n",
      "29A - KANDAWALA          2392\n",
      "13 - JAYATHILAKA         2354\n",
      "09 - DEHIWALA EAST       2336\n",
      "10 - UDYANAYA            2242\n",
      "23 - WEDIKANDA           2219\n",
      "11 - NEDIMALA            2136\n",
      "21 - ATTIDIYA NORTH      2124\n",
      "16 - KAWDANA WEST        2112\n",
      "25 - ATTIDIYA SOUTH      2096\n",
      "19 - WATARAPPOLA         2070\n",
      "14 - KARAGAMPITIYA       2021\n",
      "02/03 - EKABADDA         1967\n",
      "15B - KAWDANA EAST       1935\n",
      "18 - VIDYALAYA           1467\n",
      "04 - KALUBOWILA          1211\n",
      "28 - RATMALANA EAST      1181\n",
      "05/06 - EKABADDA         1173\n",
      "12 - MALWATTA            1150\n",
      "24 - PIRIVENA            1150\n",
      "15A - KAWDANA EAST       1144\n",
      "22 - WATHUMULLA          1136\n",
      "17 - GALKISSA            1125\n",
      "06 - SARANANKARA         1112\n",
      "26 - VIHARA              1067\n",
      "07 - GALWALA             1048\n",
      "01 - VILAWALA             992\n",
      "27 - RATMALANA WEST       989\n",
      "03 - KOHUWALA             964\n",
      "05 - HATHBODIYA           948\n",
      "02 - DUTUGAMUNU           948\n",
      "04 & 11 EKABADDA           31\n",
      "04/11 EKABADDA              2\n",
      "02/EKABADDA                 1\n",
      "Name: Route, dtype: int64\n"
     ]
    }
   ],
   "source": [
    "route_corrections = {\n",
    "    '02 DUTUGEMUNU': '02 - DUTUGAMUNU',\n",
    "    '02 DUTUGEMUN': '02 - DUTUGAMUNU',\n",
    "    '02  DUTUGEMUNU': '02 - DUTUGAMUNU',\n",
    "    '01 - VILAVALA':'01 - VILAWALA',\n",
    "    '09 DENIWALA EAST':'09 - DEHIWALA EAST',\n",
    "    '17- GALKISSA':'17 - GALKISSA',\n",
    "    '26 VIHARA': '26 - VIHARA'\n",
    "\n",
    "\n",
    "\n",
    "}\n",
    "\n",
    "# Replace incorrect names with correct names\n",
    "dataset['Route'] = dataset['Route'].replace(route_corrections)\n",
    "\n",
    "# Verify the corrections\n",
    "print(dataset['Route'].value_counts())"
   ],
   "metadata": {
    "collapsed": false,
    "ExecuteTime": {
     "end_time": "2025-02-05T16:00:17.348489Z",
     "start_time": "2025-02-05T16:00:17.332375Z"
    }
   },
   "id": "f3866a4572eaec0e",
   "execution_count": 70
  },
  {
   "cell_type": "code",
   "outputs": [],
   "source": [
    "# remove the instances with Muster == R 03 \n",
    "dataset = dataset[dataset['Muster'] != 'R 03']\n",
    "# remove the instances with Route (04 & 11 EKABADDA, 04/11 EKABADDA, 02/EKABADDA)\n",
    "dataset = dataset[dataset['Route'] != '04 & 11 EKABADDA']\n",
    "dataset = dataset[dataset['Route'] != '04/11 EKABADDA']\n",
    "dataset = dataset[dataset['Route'] != '02/EKABADDA']"
   ],
   "metadata": {
    "collapsed": false,
    "ExecuteTime": {
     "end_time": "2025-02-05T16:00:17.973241Z",
     "start_time": "2025-02-05T16:00:17.928775Z"
    }
   },
   "id": "918fad80099eb6e5",
   "execution_count": 71
  },
  {
   "cell_type": "code",
   "outputs": [
    {
     "name": "stdout",
     "output_type": "stream",
     "text": [
      "20 - KATUKURUNDUWATTA    3299\n",
      "29B - BORUPANA           2585\n",
      "08 - DEHIWALA WEST       2437\n",
      "29A - KANDAWALA          2392\n",
      "13 - JAYATHILAKA         2354\n",
      "09 - DEHIWALA EAST       2336\n",
      "10 - UDYANAYA            2242\n",
      "23 - WEDIKANDA           2219\n",
      "11 - NEDIMALA            2136\n",
      "21 - ATTIDIYA NORTH      2124\n",
      "16 - KAWDANA WEST        2112\n",
      "25 - ATTIDIYA SOUTH      2096\n",
      "19 - WATARAPPOLA         2070\n",
      "14 - KARAGAMPITIYA       2021\n",
      "02/03 - EKABADDA         1967\n",
      "15B - KAWDANA EAST       1935\n",
      "18 - VIDYALAYA           1467\n",
      "04 - KALUBOWILA          1211\n",
      "28 - RATMALANA EAST      1181\n",
      "05/06 - EKABADDA         1173\n",
      "12 - MALWATTA            1150\n",
      "24 - PIRIVENA            1149\n",
      "15A - KAWDANA EAST       1144\n",
      "22 - WATHUMULLA          1136\n",
      "17 - GALKISSA            1125\n",
      "06 - SARANANKARA         1112\n",
      "26 - VIHARA              1067\n",
      "07 - GALWALA             1048\n",
      "01 - VILAWALA             992\n",
      "27 - RATMALANA WEST       989\n",
      "03 - KOHUWALA             964\n",
      "05 - HATHBODIYA           948\n",
      "02 - DUTUGAMUNU           948\n",
      "Name: Route, dtype: int64\n"
     ]
    }
   ],
   "source": [
    "print(dataset['Route'].value_counts())"
   ],
   "metadata": {
    "collapsed": false,
    "ExecuteTime": {
     "end_time": "2025-02-05T16:00:18.680552Z",
     "start_time": "2025-02-05T16:00:18.651988Z"
    }
   },
   "id": "60f4182fe655f901",
   "execution_count": 72
  },
  {
   "cell_type": "code",
   "outputs": [
    {
     "name": "stdout",
     "output_type": "stream",
     "text": [
      "R 02               8215\n",
      "R 01               5969\n",
      "MOUNT LAVINIA      5307\n",
      "BADOWITA           5234\n",
      "KOHUWALA           4871\n",
      "D 02 PARK          4578\n",
      "KARAGAMPITIYA      4315\n",
      "ATTIDIYA           4220\n",
      "DEHIWALA TOWN      3486\n",
      "NEDIMALA           3347\n",
      "SARANANKARA        3233\n",
      "DEHIWALA MARKET    2353\n",
      "Name: Muster, dtype: int64\n"
     ]
    }
   ],
   "source": [
    "print(dataset['Muster'].value_counts())"
   ],
   "metadata": {
    "collapsed": false,
    "ExecuteTime": {
     "end_time": "2025-02-05T16:00:19.253040Z",
     "start_time": "2025-02-05T16:00:19.247009Z"
    }
   },
   "id": "458dcfd835693fec",
   "execution_count": 73
  },
  {
   "cell_type": "code",
   "outputs": [
    {
     "name": "stdout",
     "output_type": "stream",
     "text": [
      "20 - KATUKURUNDUWATTA: yes\n",
      "29A - KANDAWALA: yes\n",
      "29B - BORUPANA: yes\n",
      "08 - DEHIWALA WEST: yes\n",
      "13 - JAYATHILAKA: yes\n",
      "21 - ATTIDIYA NORTH: yes\n",
      "25 - ATTIDIYA SOUTH: yes\n",
      "02/03 - EKABADDA: yes\n",
      "11 - NEDIMALA: yes\n",
      "16 - KAWDANA WEST: yes\n",
      "10 - UDYANAYA: yes\n",
      "19 - WATARAPPOLA: yes\n",
      "23 - WEDIKANDA: yes\n",
      "09 - DEHIWALA EAST: yes\n",
      "14 - KARAGAMPITIYA: yes\n",
      "18 - VIDYALAYA: yes\n",
      "15B - KAWDANA EAST: yes\n",
      "06 - SARANANKARA: yes\n",
      "24 - PIRIVENA: yes\n",
      "12 - MALWATTA: yes\n",
      "04 - KALUBOWILA: yes\n",
      "05/06 - EKABADDA: yes\n",
      "28 - RATMALANA EAST: yes\n",
      "22 - WATHUMULLA: yes\n",
      "15A - KAWDANA EAST: yes\n",
      "05 - HATHBODIYA: yes\n",
      "27 - RATMALANA WEST: yes\n",
      "03 - KOHUWALA: yes\n"
     ]
    }
   ],
   "source": [
    "# Define the default routes\n",
    "default_routes = [\n",
    "    '20 - KATUKURUNDUWATTA', '29A - KANDAWALA', '29B - BORUPANA', '08 - DEHIWALA WEST', \n",
    "    '13 - JAYATHILAKA', '21 - ATTIDIYA NORTH', '25 - ATTIDIYA SOUTH', '02/03 - EKABADDA', \n",
    "    '11 - NEDIMALA', '16 - KAWDANA WEST', '10 - UDYANAYA', '19 - WATARAPPOLA', \n",
    "    '23 - WEDIKANDA', '09 - DEHIWALA EAST', '14 - KARAGAMPITIYA', '18 - VIDYALAYA', \n",
    "    '15B - KAWDANA EAST', '06 - SARANANKARA', '24 - PIRIVENA', '12 - MALWATTA', \n",
    "    '04 - KALUBOWILA', '05/06 - EKABADDA', '28 - RATMALANA EAST', '22 - WATHUMULLA', \n",
    "    '15A - KAWDANA EAST', '05 - HATHBODIYA', '27 - RATMALANA WEST', '03 - KOHUWALA'\n",
    "]\n",
    "\n",
    "# Function to check if routes exist in the dataset\n",
    "def check_routes_exist(df, routes):\n",
    "    for route in routes:\n",
    "        if route in df['Route'].values:\n",
    "            print(f\"{route}: yes\")\n",
    "        else:\n",
    "            print(f\"{route}: no\")\n",
    "\n",
    "# Check the routes\n",
    "check_routes_exist(dataset, default_routes)"
   ],
   "metadata": {
    "collapsed": false,
    "ExecuteTime": {
     "end_time": "2025-02-05T16:00:21.342707Z",
     "start_time": "2025-02-05T16:00:21.333784Z"
    }
   },
   "id": "c9ee2a54ad00a69f",
   "execution_count": 74
  },
  {
   "cell_type": "code",
   "outputs": [
    {
     "name": "stdout",
     "output_type": "stream",
     "text": [
      "R 02: yes\n",
      "R 01: yes\n",
      "MOUNT LAVINIA: yes\n",
      "KOHUWALA: yes\n",
      "BADOWITA: yes\n",
      "ATTIDIYA: yes\n",
      "KARAGAMPITIYA: yes\n",
      "D 02 PARK: yes\n",
      "DEHIWALA TOWN: yes\n",
      "SARANANKARA: yes\n",
      "NEDIMALA: yes\n",
      "DEHIWALA MARKET: yes\n"
     ]
    }
   ],
   "source": [
    "# Define the default musters\n",
    "default_musters = [\n",
    "    'R 02', 'R 01', 'MOUNT LAVINIA', 'KOHUWALA', 'BADOWITA', \n",
    "    'ATTIDIYA', 'KARAGAMPITIYA', 'D 02 PARK', 'DEHIWALA TOWN', \n",
    "    'SARANANKARA', 'NEDIMALA', 'DEHIWALA MARKET'\n",
    "]\n",
    "\n",
    "# Function to check if musters exist in the dataset\n",
    "def check_musters_exist(df, musters):\n",
    "    for muster in musters:\n",
    "        if muster in df['Muster'].values:\n",
    "            print(f\"{muster}: yes\")\n",
    "        else:\n",
    "            print(f\"{muster}: no\")\n",
    "\n",
    "# Check the musters\n",
    "check_musters_exist(dataset, default_musters)"
   ],
   "metadata": {
    "collapsed": false,
    "ExecuteTime": {
     "end_time": "2025-02-05T16:00:25.768606Z",
     "start_time": "2025-02-05T16:00:25.751305Z"
    }
   },
   "id": "fb0035568e391f22",
   "execution_count": 75
  },
  {
   "cell_type": "code",
   "outputs": [
    {
     "name": "stdout",
     "output_type": "stream",
     "text": [
      "    Dump Date SOW Wastage Amount (Kg) MSW Wastage Amount (Kg)  \\\n",
      "0  2022-01-01                    3200                     NaN   \n",
      "29 2022-01-01                     NaN                    1710   \n",
      "30 2022-01-01                    1160                     NaN   \n",
      "31 2022-01-01                     NaN                    2090   \n",
      "32 2022-01-01                     960                     NaN   \n",
      "33 2022-01-01                     NaN                    1360   \n",
      "34 2022-01-01                    1350                     NaN   \n",
      "35 2022-01-01                    2520                     NaN   \n",
      "36 2022-01-01                    2450                     NaN   \n",
      "37 2022-01-01                    2790                     NaN   \n",
      "\n",
      "             Muster               Route  \n",
      "0          KOHUWALA       01 - VILAWALA  \n",
      "29    MOUNT LAVINIA    19 - WATARAPPOLA  \n",
      "30             R 01      18 - VIDYALAYA  \n",
      "31             R 01      18 - VIDYALAYA  \n",
      "32  DEHIWALA MARKET    13 - JAYATHILAKA  \n",
      "33  DEHIWALA MARKET    13 - JAYATHILAKA  \n",
      "34             R 01      23 - WEDIKANDA  \n",
      "35    MOUNT LAVINIA   16 - KAWDANA WEST  \n",
      "36    KARAGAMPITIYA  15A - KAWDANA EAST  \n",
      "37        D 02 PARK  09 - DEHIWALA EAST  \n"
     ]
    }
   ],
   "source": [
    "# Dropping unnecessary columns\n",
    "columns_to_drop = ['Vehicle No', 'Out Time', 'Remarks', 'Bill No', 'Induastrial Wastage (Kg)', 'Other Amount (Kg)', 'Remarks']\n",
    "dataset = dataset.drop(columns=columns_to_drop)\n",
    "print(dataset.head(10))"
   ],
   "metadata": {
    "collapsed": false,
    "ExecuteTime": {
     "end_time": "2025-02-05T16:00:28.762141Z",
     "start_time": "2025-02-05T16:00:28.744249Z"
    }
   },
   "id": "f1c080a6a93b5d",
   "execution_count": 76
  },
  {
   "cell_type": "code",
   "outputs": [
    {
     "name": "stdout",
     "output_type": "stream",
     "text": [
      "   Dump Date             Route    Muster  SOW Wastage Amount (Kg)  \\\n",
      "0 2022-01-01     01 - VILAWALA  KOHUWALA                   3200.0   \n",
      "1 2022-01-01   02 - DUTUGAMUNU  KOHUWALA                   1820.0   \n",
      "2 2022-01-01  02/03 - EKABADDA  KOHUWALA                   2150.0   \n",
      "3 2022-01-01     03 - KOHUWALA  KOHUWALA                   3480.0   \n",
      "4 2022-01-01   04 - KALUBOWILA  NEDIMALA                   2380.0   \n",
      "\n",
      "   MSW Wastage Amount (Kg)  \n",
      "0                      0.0  \n",
      "1                      0.0  \n",
      "2                    970.0  \n",
      "3                      0.0  \n",
      "4                      0.0  \n"
     ]
    }
   ],
   "source": [
    "# Convert wastage amount columns to numeric\n",
    "dataset['SOW Wastage Amount (Kg)'] = pd.to_numeric(dataset['SOW Wastage Amount (Kg)'], errors='coerce')\n",
    "dataset['MSW Wastage Amount (Kg)'] = pd.to_numeric(dataset['MSW Wastage Amount (Kg)'], errors='coerce')\n",
    "\n",
    "# Group and sum the wastage amounts\n",
    "df_grouped = dataset.groupby(['Dump Date', 'Route', 'Muster']).agg({\n",
    "    'SOW Wastage Amount (Kg)': 'sum',\n",
    "    'MSW Wastage Amount (Kg)': 'sum'\n",
    "}).reset_index()\n",
    "print(df_grouped.head())"
   ],
   "metadata": {
    "collapsed": false,
    "ExecuteTime": {
     "end_time": "2025-02-05T16:00:32.759160Z",
     "start_time": "2025-02-05T16:00:32.717272Z"
    }
   },
   "id": "4ff0f94f5ffd7abe",
   "execution_count": 77
  },
  {
   "cell_type": "code",
   "outputs": [],
   "source": [
    "# Save the cleaned dataset\n",
    "df_grouped.to_csv('/Users/chirath/Python/IIT/Waste_Management_System-DSGP-/ALL/Dataset22-24_cleaned.csv', index=False)"
   ],
   "metadata": {
    "collapsed": false
   },
   "id": "c694eab0f6161c5"
  }
 ],
 "metadata": {
  "kernelspec": {
   "display_name": "Python 3",
   "language": "python",
   "name": "python3"
  },
  "language_info": {
   "codemirror_mode": {
    "name": "ipython",
    "version": 2
   },
   "file_extension": ".py",
   "mimetype": "text/x-python",
   "name": "python",
   "nbconvert_exporter": "python",
   "pygments_lexer": "ipython2",
   "version": "2.7.6"
  }
 },
 "nbformat": 4,
 "nbformat_minor": 5
}
