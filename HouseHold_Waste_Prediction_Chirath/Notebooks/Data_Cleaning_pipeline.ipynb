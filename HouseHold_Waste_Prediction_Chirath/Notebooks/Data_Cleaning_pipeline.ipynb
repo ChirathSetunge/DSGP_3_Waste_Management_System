{
 "cells": [
  {
   "cell_type": "code",
   "outputs": [],
   "source": [
    "# import libraries \n",
    "import pandas as pd\n",
    "import numpy as np\n",
    "import matplotlib.pyplot as plt"
   ],
   "metadata": {
    "collapsed": false,
    "ExecuteTime": {
     "end_time": "2025-01-31T18:52:45.556896Z",
     "start_time": "2025-01-31T18:52:44.061655Z"
    }
   },
   "id": "78e27c76e05449bb",
   "execution_count": 2
  },
  {
   "cell_type": "code",
   "outputs": [
    {
     "data": {
      "text/plain": "   Unnamed: 0            Dump Date Vehicle No  Out Time  \\\n0         NaN                  NaN        NaN       NaN   \n1         NaN  2024-09-02 00:00:00    ZA-6994  13:05:00   \n2         NaN  2024-09-03 00:00:00    ZA-6994  13:49:00   \n3         NaN  2024-09-04 00:00:00    ZA-6994  11:45:00   \n4         NaN  2024-09-04 00:00:00    ZA-6994  15:16:00   \n\n   SOW Wastage Amount (Kg)  MSW Wastage Amount (Kg)  Induastrial Wastage (Kg)  \\\n0                      NaN                      NaN                       NaN   \n1                      NaN                   3620.0                       NaN   \n2                   4220.0                      NaN                       NaN   \n3                      NaN                   2150.0                       NaN   \n4                      NaN                   1430.0                       NaN   \n\n   Other Amount (Kg) Remarks Bill No    Muster          Route  \n0                NaN     NaN     NaN       NaN            NaN  \n1                NaN     NaN  605770  Kohuwala  01 - Vilawala  \n2                NaN     NaN  605989  Kohuwala  01 - Vilawala  \n3                NaN     NaN  606160  Kohuwala  01 - Vilawala  \n4                NaN     NaN  606270  Kohuwala  01 - Vilawala  ",
      "text/html": "<div>\n<style scoped>\n    .dataframe tbody tr th:only-of-type {\n        vertical-align: middle;\n    }\n\n    .dataframe tbody tr th {\n        vertical-align: top;\n    }\n\n    .dataframe thead th {\n        text-align: right;\n    }\n</style>\n<table border=\"1\" class=\"dataframe\">\n  <thead>\n    <tr style=\"text-align: right;\">\n      <th></th>\n      <th>Unnamed: 0</th>\n      <th>Dump Date</th>\n      <th>Vehicle No</th>\n      <th>Out Time</th>\n      <th>SOW Wastage Amount (Kg)</th>\n      <th>MSW Wastage Amount (Kg)</th>\n      <th>Induastrial Wastage (Kg)</th>\n      <th>Other Amount (Kg)</th>\n      <th>Remarks</th>\n      <th>Bill No</th>\n      <th>Muster</th>\n      <th>Route</th>\n    </tr>\n  </thead>\n  <tbody>\n    <tr>\n      <th>0</th>\n      <td>NaN</td>\n      <td>NaN</td>\n      <td>NaN</td>\n      <td>NaN</td>\n      <td>NaN</td>\n      <td>NaN</td>\n      <td>NaN</td>\n      <td>NaN</td>\n      <td>NaN</td>\n      <td>NaN</td>\n      <td>NaN</td>\n      <td>NaN</td>\n    </tr>\n    <tr>\n      <th>1</th>\n      <td>NaN</td>\n      <td>2024-09-02 00:00:00</td>\n      <td>ZA-6994</td>\n      <td>13:05:00</td>\n      <td>NaN</td>\n      <td>3620.0</td>\n      <td>NaN</td>\n      <td>NaN</td>\n      <td>NaN</td>\n      <td>605770</td>\n      <td>Kohuwala</td>\n      <td>01 - Vilawala</td>\n    </tr>\n    <tr>\n      <th>2</th>\n      <td>NaN</td>\n      <td>2024-09-03 00:00:00</td>\n      <td>ZA-6994</td>\n      <td>13:49:00</td>\n      <td>4220.0</td>\n      <td>NaN</td>\n      <td>NaN</td>\n      <td>NaN</td>\n      <td>NaN</td>\n      <td>605989</td>\n      <td>Kohuwala</td>\n      <td>01 - Vilawala</td>\n    </tr>\n    <tr>\n      <th>3</th>\n      <td>NaN</td>\n      <td>2024-09-04 00:00:00</td>\n      <td>ZA-6994</td>\n      <td>11:45:00</td>\n      <td>NaN</td>\n      <td>2150.0</td>\n      <td>NaN</td>\n      <td>NaN</td>\n      <td>NaN</td>\n      <td>606160</td>\n      <td>Kohuwala</td>\n      <td>01 - Vilawala</td>\n    </tr>\n    <tr>\n      <th>4</th>\n      <td>NaN</td>\n      <td>2024-09-04 00:00:00</td>\n      <td>ZA-6994</td>\n      <td>15:16:00</td>\n      <td>NaN</td>\n      <td>1430.0</td>\n      <td>NaN</td>\n      <td>NaN</td>\n      <td>NaN</td>\n      <td>606270</td>\n      <td>Kohuwala</td>\n      <td>01 - Vilawala</td>\n    </tr>\n  </tbody>\n</table>\n</div>"
     },
     "execution_count": 3,
     "metadata": {},
     "output_type": "execute_result"
    }
   ],
   "source": [
    "# load the data\n",
    "dataset = pd.read_excel('/Users/chirath/Python/IIT/Waste_Management_System-DSGP-/24 Data/September Report.xlsx')\n",
    "dataset.head()"
   ],
   "metadata": {
    "collapsed": false,
    "ExecuteTime": {
     "end_time": "2025-01-31T18:52:45.829302Z",
     "start_time": "2025-01-31T18:52:45.556946Z"
    }
   },
   "id": "2abb99fa76e6628b",
   "execution_count": 3
  },
  {
   "cell_type": "code",
   "outputs": [
    {
     "name": "stdout",
     "output_type": "stream",
     "text": [
      "The number of rows in the dataset is:  1754\n",
      "The number of columns in the dataset is:  12\n"
     ]
    }
   ],
   "source": [
    "# identify the shape of the dataset\n",
    "print(\"The number of rows in the dataset is: \", dataset.shape[0])\n",
    "print(\"The number of columns in the dataset is: \", dataset.shape[1])"
   ],
   "metadata": {
    "collapsed": false,
    "ExecuteTime": {
     "end_time": "2025-01-31T18:52:45.830679Z",
     "start_time": "2025-01-31T18:52:45.822784Z"
    }
   },
   "id": "756887eeb8e22de1",
   "execution_count": 4
  },
  {
   "cell_type": "code",
   "outputs": [
    {
     "name": "stdout",
     "output_type": "stream",
     "text": [
      "The data types of the columns in the dataset are: \n",
      "Unnamed: 0                  float64\n",
      "Dump Date                    object\n",
      "Vehicle No                   object\n",
      "Out Time                     object\n",
      "SOW Wastage Amount (Kg)     float64\n",
      "MSW Wastage Amount (Kg)     float64\n",
      "Induastrial Wastage (Kg)    float64\n",
      "Other Amount (Kg)           float64\n",
      "Remarks                      object\n",
      "Bill No                      object\n",
      "Muster                       object\n",
      "Route                        object\n",
      "dtype: object\n"
     ]
    }
   ],
   "source": [
    "# indentify the data types of the columns (features)\n",
    "print(\"The data types of the columns in the dataset are: \")\n",
    "print(dataset.dtypes)"
   ],
   "metadata": {
    "collapsed": false,
    "ExecuteTime": {
     "end_time": "2025-01-31T18:52:45.846756Z",
     "start_time": "2025-01-31T18:52:45.829042Z"
    }
   },
   "id": "2ded35d18d15a2f3",
   "execution_count": 5
  },
  {
   "cell_type": "code",
   "outputs": [
    {
     "name": "stdout",
     "output_type": "stream",
     "text": [
      "Dump Date: yes\n",
      "Vehicle No: yes\n",
      "Out Time: yes\n",
      "SOW Wastage Amount (Kg): yes\n",
      "MSW Wastage Amount (Kg): yes\n",
      "Induastrial Wastage (Kg): yes\n",
      "Other Amount (Kg): yes\n",
      "Remarks: yes\n",
      "Bill No: yes\n",
      "Muster: yes\n",
      "Route: yes\n"
     ]
    }
   ],
   "source": [
    "# define the default column names\n",
    "default_columns = [\n",
    "    'Dump Date', 'Vehicle No', 'Out Time', 'SOW Wastage Amount (Kg)', \n",
    "    'MSW Wastage Amount (Kg)', 'Induastrial Wastage (Kg)', 'Other Amount (Kg)', \n",
    "    'Remarks', 'Bill No', 'Muster', 'Route'\n",
    "]\n",
    "\n",
    "# Function to check if columns exist in the dataset\n",
    "def check_columns_exist(df, columns):\n",
    "    for column in columns:\n",
    "        if column in df.columns:\n",
    "            print(f\"{column}: yes\")\n",
    "        else:\n",
    "            print(f\"{column}: no\")\n",
    "\n",
    "check_columns_exist(dataset, default_columns)"
   ],
   "metadata": {
    "collapsed": false,
    "ExecuteTime": {
     "end_time": "2025-01-31T18:52:45.850466Z",
     "start_time": "2025-01-31T18:52:45.834894Z"
    }
   },
   "id": "4b6ecf71ec3d76ba",
   "execution_count": 6
  },
  {
   "cell_type": "code",
   "outputs": [
    {
     "name": "stdout",
     "output_type": "stream",
     "text": [
      "Dump Date                    object\n",
      "Vehicle No                   object\n",
      "Out Time                     object\n",
      "SOW Wastage Amount (Kg)     float64\n",
      "MSW Wastage Amount (Kg)     float64\n",
      "Induastrial Wastage (Kg)    float64\n",
      "Other Amount (Kg)           float64\n",
      "Remarks                      object\n",
      "Bill No                      object\n",
      "Muster                       object\n",
      "Route                        object\n",
      "dtype: object\n"
     ]
    }
   ],
   "source": [
    "# keep only the default columns\n",
    "dataset = dataset[default_columns]\n",
    "print(dataset.dtypes)"
   ],
   "metadata": {
    "collapsed": false,
    "ExecuteTime": {
     "end_time": "2025-01-31T18:52:45.929829Z",
     "start_time": "2025-01-31T18:52:45.842820Z"
    }
   },
   "id": "f387dadc5ec0b2fb",
   "execution_count": 7
  },
  {
   "cell_type": "code",
   "outputs": [
    {
     "name": "stdout",
     "output_type": "stream",
     "text": [
      "The missing values in the dataset are: \n",
      "Dump Date                     51\n",
      "Vehicle No                    56\n",
      "Out Time                      60\n",
      "SOW Wastage Amount (Kg)     1093\n",
      "MSW Wastage Amount (Kg)      730\n",
      "Induastrial Wastage (Kg)    1752\n",
      "Other Amount (Kg)           1736\n",
      "Remarks                     1717\n",
      "Bill No                       54\n",
      "Muster                        55\n",
      "Route                         55\n",
      "dtype: int64\n"
     ]
    }
   ],
   "source": [
    "# identify the missing values in the dataset\n",
    "print(\"The missing values in the dataset are: \")\n",
    "print(dataset.isnull().sum())"
   ],
   "metadata": {
    "collapsed": false,
    "ExecuteTime": {
     "end_time": "2025-01-31T18:52:45.932005Z",
     "start_time": "2025-01-31T18:52:45.851533Z"
    }
   },
   "id": "51f7e80fd004ecf0",
   "execution_count": 8
  },
  {
   "cell_type": "code",
   "outputs": [
    {
     "name": "stdout",
     "output_type": "stream",
     "text": [
      "The duplicate rows in the dataset are: \n",
      "49\n",
      "     Dump Date Vehicle No Out Time  SOW Wastage Amount (Kg)  \\\n",
      "31         NaN        NaN      NaN                      NaN   \n",
      "59         NaN        NaN      NaN                      NaN   \n",
      "84         NaN        NaN      NaN                      NaN   \n",
      "141        NaN        NaN      NaN                      NaN   \n",
      "176        NaN        NaN      NaN                      NaN   \n",
      "248        NaN        NaN      NaN                      NaN   \n",
      "276        NaN        NaN      NaN                      NaN   \n",
      "314        NaN        NaN      NaN                      NaN   \n",
      "349        NaN        NaN      NaN                      NaN   \n",
      "383        NaN        NaN      NaN                      NaN   \n",
      "451        NaN        NaN      NaN                      NaN   \n",
      "531        NaN        NaN      NaN                      NaN   \n",
      "597        NaN        NaN      NaN                      NaN   \n",
      "635        NaN        NaN      NaN                      NaN   \n",
      "697        NaN        NaN      NaN                      NaN   \n",
      "731        NaN        NaN      NaN                      NaN   \n",
      "813        NaN        NaN      NaN                      NaN   \n",
      "872        NaN        NaN      NaN                      NaN   \n",
      "905        NaN        NaN      NaN                      NaN   \n",
      "963        NaN        NaN      NaN                      NaN   \n",
      "1002       NaN        NaN      NaN                      NaN   \n",
      "1038       NaN        NaN      NaN                      NaN   \n",
      "1119       NaN        NaN      NaN                      NaN   \n",
      "1160       NaN        NaN      NaN                      NaN   \n",
      "1224       NaN        NaN      NaN                      NaN   \n",
      "1316       NaN        NaN      NaN                      NaN   \n",
      "1386       NaN        NaN      NaN                      NaN   \n",
      "1459       NaN        NaN      NaN                      NaN   \n",
      "1489       NaN        NaN      NaN                      NaN   \n",
      "1518       NaN        NaN      NaN                      NaN   \n",
      "1552       NaN        NaN      NaN                      NaN   \n",
      "1617       NaN        NaN      NaN                      NaN   \n",
      "1695       NaN        NaN      NaN                      NaN   \n",
      "1717       NaN        NaN      NaN                      NaN   \n",
      "1732       NaN        NaN      NaN                      NaN   \n",
      "1735       NaN        NaN      NaN                      NaN   \n",
      "1736       NaN        NaN      NaN                      NaN   \n",
      "1737       NaN        NaN      NaN                      NaN   \n",
      "1738       NaN        NaN      NaN                      NaN   \n",
      "1739       NaN        NaN      NaN                      NaN   \n",
      "1740       NaN        NaN      NaN                      NaN   \n",
      "1741       NaN        NaN      NaN                      NaN   \n",
      "1742       NaN        NaN      NaN                      NaN   \n",
      "1743       NaN        NaN      NaN                      NaN   \n",
      "1744       NaN        NaN      NaN                      NaN   \n",
      "1747       NaN        NaN      NaN                      NaN   \n",
      "1749       NaN        NaN      NaN                      NaN   \n",
      "1751       NaN        NaN      NaN                      NaN   \n",
      "1752       NaN        NaN      NaN                      NaN   \n",
      "\n",
      "      MSW Wastage Amount (Kg)  Induastrial Wastage (Kg)  Other Amount (Kg)  \\\n",
      "31                        NaN                       NaN                NaN   \n",
      "59                        NaN                       NaN                NaN   \n",
      "84                        NaN                       NaN                NaN   \n",
      "141                       NaN                       NaN                NaN   \n",
      "176                       NaN                       NaN                NaN   \n",
      "248                       NaN                       NaN                NaN   \n",
      "276                       NaN                       NaN                NaN   \n",
      "314                       NaN                       NaN                NaN   \n",
      "349                       NaN                       NaN                NaN   \n",
      "383                       NaN                       NaN                NaN   \n",
      "451                       NaN                       NaN                NaN   \n",
      "531                       NaN                       NaN                NaN   \n",
      "597                       NaN                       NaN                NaN   \n",
      "635                       NaN                       NaN                NaN   \n",
      "697                       NaN                       NaN                NaN   \n",
      "731                       NaN                       NaN                NaN   \n",
      "813                       NaN                       NaN                NaN   \n",
      "872                       NaN                       NaN                NaN   \n",
      "905                       NaN                       NaN                NaN   \n",
      "963                       NaN                       NaN                NaN   \n",
      "1002                      NaN                       NaN                NaN   \n",
      "1038                      NaN                       NaN                NaN   \n",
      "1119                      NaN                       NaN                NaN   \n",
      "1160                      NaN                       NaN                NaN   \n",
      "1224                      NaN                       NaN                NaN   \n",
      "1316                      NaN                       NaN                NaN   \n",
      "1386                      NaN                       NaN                NaN   \n",
      "1459                      NaN                       NaN                NaN   \n",
      "1489                      NaN                       NaN                NaN   \n",
      "1518                      NaN                       NaN                NaN   \n",
      "1552                      NaN                       NaN                NaN   \n",
      "1617                      NaN                       NaN                NaN   \n",
      "1695                      NaN                       NaN                NaN   \n",
      "1717                      NaN                       NaN                NaN   \n",
      "1732                      NaN                       NaN                NaN   \n",
      "1735                      NaN                       NaN                NaN   \n",
      "1736                      NaN                       NaN                NaN   \n",
      "1737                      NaN                       NaN                NaN   \n",
      "1738                      NaN                       NaN                NaN   \n",
      "1739                      NaN                       NaN                NaN   \n",
      "1740                      NaN                       NaN                NaN   \n",
      "1741                      NaN                       NaN                NaN   \n",
      "1742                      NaN                       NaN                NaN   \n",
      "1743                      NaN                       NaN                NaN   \n",
      "1744                      NaN                       NaN                NaN   \n",
      "1747                      NaN                       NaN                NaN   \n",
      "1749                      NaN                       NaN                NaN   \n",
      "1751                      NaN                       NaN                NaN   \n",
      "1752                      NaN                       NaN                NaN   \n",
      "\n",
      "     Remarks Bill No Muster Route  \n",
      "31       NaN     NaN    NaN   NaN  \n",
      "59       NaN     NaN    NaN   NaN  \n",
      "84       NaN     NaN    NaN   NaN  \n",
      "141      NaN     NaN    NaN   NaN  \n",
      "176      NaN     NaN    NaN   NaN  \n",
      "248      NaN     NaN    NaN   NaN  \n",
      "276      NaN     NaN    NaN   NaN  \n",
      "314      NaN     NaN    NaN   NaN  \n",
      "349      NaN     NaN    NaN   NaN  \n",
      "383      NaN     NaN    NaN   NaN  \n",
      "451      NaN     NaN    NaN   NaN  \n",
      "531      NaN     NaN    NaN   NaN  \n",
      "597      NaN     NaN    NaN   NaN  \n",
      "635      NaN     NaN    NaN   NaN  \n",
      "697      NaN     NaN    NaN   NaN  \n",
      "731      NaN     NaN    NaN   NaN  \n",
      "813      NaN     NaN    NaN   NaN  \n",
      "872      NaN     NaN    NaN   NaN  \n",
      "905      NaN     NaN    NaN   NaN  \n",
      "963      NaN     NaN    NaN   NaN  \n",
      "1002     NaN     NaN    NaN   NaN  \n",
      "1038     NaN     NaN    NaN   NaN  \n",
      "1119     NaN     NaN    NaN   NaN  \n",
      "1160     NaN     NaN    NaN   NaN  \n",
      "1224     NaN     NaN    NaN   NaN  \n",
      "1316     NaN     NaN    NaN   NaN  \n",
      "1386     NaN     NaN    NaN   NaN  \n",
      "1459     NaN     NaN    NaN   NaN  \n",
      "1489     NaN     NaN    NaN   NaN  \n",
      "1518     NaN     NaN    NaN   NaN  \n",
      "1552     NaN     NaN    NaN   NaN  \n",
      "1617     NaN     NaN    NaN   NaN  \n",
      "1695     NaN     NaN    NaN   NaN  \n",
      "1717     NaN     NaN    NaN   NaN  \n",
      "1732     NaN     NaN    NaN   NaN  \n",
      "1735     NaN     NaN    NaN   NaN  \n",
      "1736     NaN     NaN    NaN   NaN  \n",
      "1737     NaN     NaN    NaN   NaN  \n",
      "1738     NaN     NaN    NaN   NaN  \n",
      "1739     NaN     NaN    NaN   NaN  \n",
      "1740     NaN     NaN    NaN   NaN  \n",
      "1741     NaN     NaN    NaN   NaN  \n",
      "1742     NaN     NaN    NaN   NaN  \n",
      "1743     NaN     NaN    NaN   NaN  \n",
      "1744     NaN     NaN    NaN   NaN  \n",
      "1747     NaN     NaN    NaN   NaN  \n",
      "1749     NaN     NaN    NaN   NaN  \n",
      "1751     NaN     NaN    NaN   NaN  \n",
      "1752     NaN     NaN    NaN   NaN  \n"
     ]
    }
   ],
   "source": [
    "# identify the duplicate rows in the dataset\n",
    "print(\"The duplicate rows in the dataset are: \")\n",
    "print(dataset.duplicated().sum())\n",
    "print(dataset[dataset.duplicated()])"
   ],
   "metadata": {
    "collapsed": false,
    "ExecuteTime": {
     "end_time": "2025-01-31T18:52:45.966508Z",
     "start_time": "2025-01-31T18:52:45.856042Z"
    }
   },
   "id": "cc51685c59ad5fea",
   "execution_count": 9
  },
  {
   "cell_type": "code",
   "outputs": [],
   "source": [
    "# drop the duplicate rows\n",
    "dataset = dataset.drop_duplicates()"
   ],
   "metadata": {
    "collapsed": false,
    "ExecuteTime": {
     "end_time": "2025-01-31T18:52:46.028611Z",
     "start_time": "2025-01-31T18:52:45.873378Z"
    }
   },
   "id": "c9e3a586a9669c26",
   "execution_count": 10
  },
  {
   "cell_type": "code",
   "outputs": [
    {
     "name": "stdout",
     "output_type": "stream",
     "text": [
      "The number of rows in the dataset after dropping the duplicates is:  1705\n"
     ]
    }
   ],
   "source": [
    "# check the number of rows after dropping the duplicates\n",
    "print(\"The number of rows in the dataset after dropping the duplicates is: \", dataset.shape[0])"
   ],
   "metadata": {
    "collapsed": false,
    "ExecuteTime": {
     "end_time": "2025-01-31T18:52:46.029981Z",
     "start_time": "2025-01-31T18:52:45.883790Z"
    }
   },
   "id": "1de731744dc908b8",
   "execution_count": 11
  },
  {
   "cell_type": "code",
   "outputs": [
    {
     "name": "stdout",
     "output_type": "stream",
     "text": [
      "The missing values in the dataset after dropping the duplicates are: \n",
      "Dump Date                      2\n",
      "Vehicle No                     7\n",
      "Out Time                      11\n",
      "SOW Wastage Amount (Kg)     1044\n",
      "MSW Wastage Amount (Kg)      681\n",
      "Induastrial Wastage (Kg)    1703\n",
      "Other Amount (Kg)           1687\n",
      "Remarks                     1668\n",
      "Bill No                        5\n",
      "Muster                         6\n",
      "Route                          6\n",
      "dtype: int64\n"
     ]
    }
   ],
   "source": [
    "# check the missing values in the dataset after dropping the duplicates\n",
    "print(\"The missing values in the dataset after dropping the duplicates are: \")\n",
    "print(dataset.isnull().sum())"
   ],
   "metadata": {
    "collapsed": false,
    "ExecuteTime": {
     "end_time": "2025-01-31T18:52:46.030997Z",
     "start_time": "2025-01-31T18:52:45.888563Z"
    }
   },
   "id": "318eb5376141a9d1",
   "execution_count": 12
  },
  {
   "cell_type": "code",
   "outputs": [],
   "source": [
    "# remove the instances with Dump Date as missing values\n",
    "dataset = dataset.dropna(subset=['Dump Date'])"
   ],
   "metadata": {
    "collapsed": false,
    "ExecuteTime": {
     "end_time": "2025-01-31T18:52:46.032698Z",
     "start_time": "2025-01-31T18:52:45.893076Z"
    }
   },
   "id": "70b9f18abcd0228b",
   "execution_count": 13
  },
  {
   "cell_type": "markdown",
   "source": [
    "remove the instances where Muster == 'Others' to remove the influence from Others category."
   ],
   "metadata": {
    "collapsed": false
   },
   "id": "93bd2dfb2e9eed77"
  },
  {
   "cell_type": "code",
   "outputs": [],
   "source": [
    "# strip the whitespaces in the 'Muster' column\n",
    "dataset['Muster'] = dataset['Muster'].str.strip()"
   ],
   "metadata": {
    "collapsed": false,
    "ExecuteTime": {
     "end_time": "2025-01-31T18:52:46.032873Z",
     "start_time": "2025-01-31T18:52:45.900708Z"
    }
   },
   "id": "c87570cac12eb918",
   "execution_count": 14
  },
  {
   "cell_type": "code",
   "outputs": [],
   "source": [
    "# remove the instances where Muster == 'Others'\n",
    "dataset = dataset[dataset['Muster'] != 'Others']"
   ],
   "metadata": {
    "collapsed": false,
    "ExecuteTime": {
     "end_time": "2025-01-31T18:52:46.049441Z",
     "start_time": "2025-01-31T18:52:45.906799Z"
    }
   },
   "id": "9fb6cfa76ef8c931",
   "execution_count": 15
  },
  {
   "cell_type": "code",
   "outputs": [
    {
     "name": "stdout",
     "output_type": "stream",
     "text": [
      "The missing values in the dataset after removing the instances with Muster == 'Others' and Dump Date as missing values are: \n",
      "Dump Date                      0\n",
      "Vehicle No                     5\n",
      "Out Time                       8\n",
      "SOW Wastage Amount (Kg)     1006\n",
      "MSW Wastage Amount (Kg)      665\n",
      "Induastrial Wastage (Kg)    1665\n",
      "Other Amount (Kg)           1664\n",
      "Remarks                     1631\n",
      "Bill No                        4\n",
      "Muster                         4\n",
      "Route                          4\n",
      "dtype: int64\n"
     ]
    }
   ],
   "source": [
    "# check the missing values in the dataset after removing the instances with Muster == 'Others' and Dump Date as missing values\n",
    "print(\"The missing values in the dataset after removing the instances with Muster == 'Others' and Dump Date as missing values are: \")\n",
    "print(dataset.isnull().sum())"
   ],
   "metadata": {
    "collapsed": false,
    "ExecuteTime": {
     "end_time": "2025-01-31T18:52:46.050700Z",
     "start_time": "2025-01-31T18:52:45.913501Z"
    }
   },
   "id": "8045722e567f5792",
   "execution_count": 16
  },
  {
   "cell_type": "code",
   "outputs": [
    {
     "data": {
      "text/plain": "2024-09-14 00:00:00    98\n2024-09-07 00:00:00    93\n2024-09-25 00:00:00    92\n2024-09-04 00:00:00    90\n2024-09-28 00:00:00    90\n2024-09-11 00:00:00    86\n2024-09-19 00:00:00    85\n2024-09-26 00:00:00    75\n2024-09-20 00:00:00    75\n2024-09-05 00:00:00    70\n2024-09-02 00:00:00    69\n2024-09-09 00:00:00    69\n2024-09-30 00:00:00    67\n2024-09-12 00:00:00    62\n2024-09-27 00:00:00    61\n2024-09-18 00:00:00    61\n2024-09-03 00:00:00    61\n2024-09-13 00:00:00    59\n2024-09-06 00:00:00    58\n2024-09-16 00:00:00    56\n2024-09-10 00:00:00    53\n2024-09-24 00:00:00    53\n2024-09-23 00:00:00    46\n2024-09-21 00:00:00    33\nTotal                   1\nTatol (SOW + MSW)       1\nPercentage Of SOW       1\nFully Total             1\nName: Dump Date, dtype: int64"
     },
     "execution_count": 17,
     "metadata": {},
     "output_type": "execute_result"
    }
   ],
   "source": [
    "# check the instance for Dump Date \n",
    "dataset['Dump Date'].value_counts()"
   ],
   "metadata": {
    "collapsed": false,
    "ExecuteTime": {
     "end_time": "2025-01-31T18:52:46.053920Z",
     "start_time": "2025-01-31T18:52:45.919630Z"
    }
   },
   "id": "69b56b9662e7545c",
   "execution_count": 17
  },
  {
   "cell_type": "code",
   "outputs": [],
   "source": [
    "# transform the 'Dump Date' column to datetime format\n",
    "dataset['Dump Date'] = pd.to_datetime(dataset['Dump Date'], errors='coerce')"
   ],
   "metadata": {
    "collapsed": false,
    "ExecuteTime": {
     "end_time": "2025-01-31T18:52:46.063553Z",
     "start_time": "2025-01-31T18:52:45.927342Z"
    }
   },
   "id": "afc9bd1d2f6656dd",
   "execution_count": 18
  },
  {
   "cell_type": "code",
   "outputs": [
    {
     "data": {
      "text/plain": "2024-09-14    98\n2024-09-07    93\n2024-09-25    92\n2024-09-04    90\n2024-09-28    90\n2024-09-11    86\n2024-09-19    85\n2024-09-20    75\n2024-09-26    75\n2024-09-05    70\n2024-09-02    69\n2024-09-09    69\n2024-09-30    67\n2024-09-12    62\n2024-09-03    61\n2024-09-18    61\n2024-09-27    61\n2024-09-13    59\n2024-09-06    58\n2024-09-16    56\n2024-09-24    53\n2024-09-10    53\n2024-09-23    46\n2024-09-21    33\nName: Dump Date, dtype: int64"
     },
     "execution_count": 19,
     "metadata": {},
     "output_type": "execute_result"
    }
   ],
   "source": [
    "# check the instance for Dump Date after transforming to datetime format\n",
    "dataset['Dump Date'].value_counts()\n"
   ],
   "metadata": {
    "collapsed": false,
    "ExecuteTime": {
     "end_time": "2025-01-31T18:52:46.066650Z",
     "start_time": "2025-01-31T18:52:45.932672Z"
    }
   },
   "id": "981db16ba42d045d",
   "execution_count": 19
  },
  {
   "cell_type": "code",
   "outputs": [],
   "source": [
    "# normalize the 'Dump Date' column\n",
    "dataset['Dump Date'] = dataset['Dump Date'].dt.normalize()"
   ],
   "metadata": {
    "collapsed": false,
    "ExecuteTime": {
     "end_time": "2025-01-31T18:52:46.067803Z",
     "start_time": "2025-01-31T18:52:45.938712Z"
    }
   },
   "id": "909f68be99b302bf",
   "execution_count": 20
  },
  {
   "cell_type": "code",
   "outputs": [
    {
     "name": "stdout",
     "output_type": "stream",
     "text": [
      "The missing values in the dataset after normalizing the 'Dump Date' column are: \n",
      "Dump Date                      4\n",
      "Vehicle No                     5\n",
      "Out Time                       8\n",
      "SOW Wastage Amount (Kg)     1006\n",
      "MSW Wastage Amount (Kg)      665\n",
      "Induastrial Wastage (Kg)    1665\n",
      "Other Amount (Kg)           1664\n",
      "Remarks                     1631\n",
      "Bill No                        4\n",
      "Muster                         4\n",
      "Route                          4\n",
      "dtype: int64\n"
     ]
    }
   ],
   "source": [
    "# check the missing values\n",
    "print(\"The missing values in the dataset after normalizing the 'Dump Date' column are: \")\n",
    "print(dataset.isnull().sum())"
   ],
   "metadata": {
    "collapsed": false,
    "ExecuteTime": {
     "end_time": "2025-01-31T18:52:46.094245Z",
     "start_time": "2025-01-31T18:52:45.944519Z"
    }
   },
   "id": "c1c3d4ebc85e11d3",
   "execution_count": 21
  },
  {
   "cell_type": "code",
   "outputs": [],
   "source": [
    "# remove the instances with missing values in the 'Dump Date' column\n",
    "dataset = dataset.dropna(subset=['Dump Date'])"
   ],
   "metadata": {
    "collapsed": false,
    "ExecuteTime": {
     "end_time": "2025-01-31T18:52:46.114204Z",
     "start_time": "2025-01-31T18:52:45.948983Z"
    }
   },
   "id": "1561dc182eedc126",
   "execution_count": 22
  },
  {
   "cell_type": "code",
   "outputs": [
    {
     "name": "stdout",
     "output_type": "stream",
     "text": [
      "The missing values in the dataset after removing the instances with missing values in the 'Dump Date' column are: \n",
      "Dump Date                      0\n",
      "Vehicle No                     1\n",
      "Out Time                       4\n",
      "SOW Wastage Amount (Kg)     1003\n",
      "MSW Wastage Amount (Kg)      664\n",
      "Induastrial Wastage (Kg)    1662\n",
      "Other Amount (Kg)           1662\n",
      "Remarks                     1627\n",
      "Bill No                        1\n",
      "Muster                         0\n",
      "Route                          0\n",
      "dtype: int64\n"
     ]
    }
   ],
   "source": [
    "# check the missing values\n",
    "print(\"The missing values in the dataset after removing the instances with missing values in the 'Dump Date' column are: \")\n",
    "print(dataset.isnull().sum())\n"
   ],
   "metadata": {
    "collapsed": false,
    "ExecuteTime": {
     "end_time": "2025-01-31T18:52:46.115524Z",
     "start_time": "2025-01-31T18:52:45.955451Z"
    }
   },
   "id": "13326cbef0424284",
   "execution_count": 23
  },
  {
   "cell_type": "code",
   "outputs": [],
   "source": [
    "# order the dataset by 'Dump Date'\n",
    "dataset = dataset.sort_values(by='Dump Date')   "
   ],
   "metadata": {
    "collapsed": false,
    "ExecuteTime": {
     "end_time": "2025-01-31T18:52:46.116915Z",
     "start_time": "2025-01-31T18:52:45.958849Z"
    }
   },
   "id": "e615b7db13debfd4",
   "execution_count": 24
  },
  {
   "cell_type": "code",
   "outputs": [
    {
     "name": "stdout",
     "output_type": "stream",
     "text": [
      "      Dump Date Vehicle No  Out Time  SOW Wastage Amount (Kg)  \\\n",
      "1    2024-09-02    ZA-6994  13:05:00                      NaN   \n",
      "1319 2024-09-02    RD-8430  17:17:00                      NaN   \n",
      "60   2024-09-02    LM-5359  14:21:00                   2780.0   \n",
      "1318 2024-09-02    RD-8430  13:37:00                   1060.0   \n",
      "1317 2024-09-02    LM-5361  13:36:00                   1380.0   \n",
      "...         ...        ...       ...                      ...   \n",
      "1013 2024-09-09    LK-2677  13:55:00                   1480.0   \n",
      "406  2024-09-09    LK-2687  11:36:00                   3210.0   \n",
      "405  2024-09-09    RD-1607  13:22:00                      NaN   \n",
      "404  2024-09-09    RD-1607  10:30:00                      NaN   \n",
      "196  2024-09-09    RD-8432  13:33:00                   2100.0   \n",
      "\n",
      "      MSW Wastage Amount (Kg)  Induastrial Wastage (Kg)  Other Amount (Kg)  \\\n",
      "1                      3620.0                       NaN                NaN   \n",
      "1319                    990.0                       NaN                NaN   \n",
      "60                        NaN                       NaN                NaN   \n",
      "1318                      NaN                       NaN                NaN   \n",
      "1317                      NaN                       NaN                NaN   \n",
      "...                       ...                       ...                ...   \n",
      "1013                      NaN                       NaN                NaN   \n",
      "406                       NaN                       NaN                NaN   \n",
      "405                     970.0                       NaN                NaN   \n",
      "404                    1750.0                       NaN                NaN   \n",
      "196                       NaN                       NaN                NaN   \n",
      "\n",
      "     Remarks Bill No         Muster                Route  \n",
      "1        NaN  605770       Kohuwala        01 - Vilawala  \n",
      "1319     NaN  605897       Attidiya  21 - Attidiya North  \n",
      "60       NaN  605815       Kohuwala        03 - Kohuwala  \n",
      "1318     NaN  605792       Attidiya  21 - Attidiya North  \n",
      "1317     NaN  605790       Attidiya  21 - Attidiya North  \n",
      "...      ...     ...            ...                  ...  \n",
      "1013     NaN  607173            R01       22- Wathumulla  \n",
      "406      NaN  607105  Dehiwala Town   08 - Dehiwala West  \n",
      "405      NaN  607140  Dehiwala Town   08 - Dehiwala West  \n",
      "404      NaN  607076  Dehiwala Town   08 - Dehiwala West  \n",
      "196      NaN  607154       Nedimala        11 - Nedimala  \n",
      "\n",
      "[500 rows x 11 columns]\n"
     ]
    }
   ],
   "source": [
    "# print the first 500 rows of the dataset \n",
    "print(dataset.head(500))"
   ],
   "metadata": {
    "collapsed": false,
    "ExecuteTime": {
     "end_time": "2025-01-31T18:52:46.124909Z",
     "start_time": "2025-01-31T18:52:45.968434Z"
    }
   },
   "id": "34a512c043fbad3c",
   "execution_count": 25
  },
  {
   "cell_type": "markdown",
   "source": [
    "Clean the numerous human data entry errors in the 'Muster' and 'Route' column."
   ],
   "metadata": {
    "collapsed": false
   },
   "id": "e41dbecadf962ea4"
  },
  {
   "cell_type": "code",
   "outputs": [],
   "source": [
    "dataset['Muster'] = dataset['Muster'].str.strip()"
   ],
   "metadata": {
    "collapsed": false,
    "ExecuteTime": {
     "end_time": "2025-01-31T18:52:46.126291Z",
     "start_time": "2025-01-31T18:52:45.971777Z"
    }
   },
   "id": "568e47b1b079b4cd",
   "execution_count": 26
  },
  {
   "cell_type": "code",
   "outputs": [
    {
     "data": {
      "text/plain": "R 02             231\nR 01             158\nBadowita         154\nMount Lavinia    147\nD 02 Park        144\nAttidiya         141\nKohuwala         137\nKaragampitiya    131\nNedimala         105\nDehiwala Town    100\nSaranankara       98\nD 02 Market       81\nR01               35\nName: Muster, dtype: int64"
     },
     "execution_count": 27,
     "metadata": {},
     "output_type": "execute_result"
    }
   ],
   "source": [
    "# check the instance for Muster\n",
    "dataset['Muster'].value_counts()"
   ],
   "metadata": {
    "collapsed": false,
    "ExecuteTime": {
     "end_time": "2025-01-31T18:53:05.222669Z",
     "start_time": "2025-01-31T18:53:05.213632Z"
    }
   },
   "id": "778e8a634171e0d4",
   "execution_count": 27
  },
  {
   "cell_type": "code",
   "outputs": [],
   "source": [
    "# correcting the muster category errors\n",
    "muster_corrections = {\n",
    "    'D02 Park': 'D 02 Park',\n",
    "    'D2 Park': 'D 02 Park',\n",
    "    'Dehiwala City': 'Dehiwala Town',\n",
    "    'Dehiwala City': 'Dehiwala Town',\n",
    "    'Dehiuwala City': 'Dehiwala Town',\n",
    "    'D 02 Market': 'Dehiwala Market',\n",
    "    'D 02 - Market': 'Dehiwala Market',\n",
    "    'Dehiwala Marker': 'Dehiwala Market',\n",
    "    'Kaaragampitiya': 'Karagampitiya',\n",
    "    'Dehiwala Markect': 'Dehiwala Market',\n",
    "    'R01': 'R 01',\n",
    "    'R02': 'R 02',\n",
    "    'Attdidya': 'Attidiya',\n",
    "    'D 02 Market': 'Dehiwala Market',\n",
    "    'D 02 Market': 'Dehiwala Market',\n",
    "    'Dehiwala Marhet': 'Dehiwala Market',\n",
    "    'Kouhwala': 'Kohuwala',\n",
    "    'Kohuwalka': 'Kohuwala'\n",
    "\n",
    "}\n",
    "dataset['Muster'] = dataset['Muster'].replace(muster_corrections)"
   ],
   "metadata": {
    "collapsed": false,
    "ExecuteTime": {
     "end_time": "2025-01-31T18:54:03.046587Z",
     "start_time": "2025-01-31T18:54:03.030962Z"
    }
   },
   "id": "b1e49ff238da354c",
   "execution_count": 28
  },
  {
   "cell_type": "code",
   "outputs": [
    {
     "data": {
      "text/plain": "R 02               231\nR 01               193\nBadowita           154\nMount Lavinia      147\nD 02 Park          144\nAttidiya           141\nKohuwala           137\nKaragampitiya      131\nNedimala           105\nDehiwala Town      100\nSaranankara         98\nDehiwala Market     81\nName: Muster, dtype: int64"
     },
     "execution_count": 29,
     "metadata": {},
     "output_type": "execute_result"
    }
   ],
   "source": [
    "# check the instance for Muster after correcting the muster category errors\n",
    "dataset['Muster'].value_counts()"
   ],
   "metadata": {
    "collapsed": false,
    "ExecuteTime": {
     "end_time": "2025-01-31T18:54:11.319298Z",
     "start_time": "2025-01-31T18:54:11.314981Z"
    }
   },
   "id": "635bf1fed79178f2",
   "execution_count": 29
  },
  {
   "cell_type": "code",
   "outputs": [],
   "source": [
    "dataset['Route'] = dataset['Route'].str.strip()"
   ],
   "metadata": {
    "collapsed": false,
    "ExecuteTime": {
     "end_time": "2025-01-31T18:55:51.421986Z",
     "start_time": "2025-01-31T18:55:51.412985Z"
    }
   },
   "id": "10e29aec6ef82a2f",
   "execution_count": 31
  },
  {
   "cell_type": "code",
   "outputs": [
    {
     "data": {
      "text/plain": "20 - Katukurunduwatta    91\n13 - Jayathilaka         81\n23 - Wedikanda           80\n09 - Dehiwala East       79\n29B - Borupana           77\n25 - Attidiya South      72\n11 - Nedimala            71\n21 - Attidiya North      69\n08 - Dehiwala West       67\n10 - Udyanaya            65\n29A - Kandawala          64\n15B - Kawdana East       63\n14 - Karagampitiya       61\n16 - Kawdana West        58\n19 - Watarappala         57\n02/03 - Ekabadda         56\n24 - Pirivena            40\n18 - Vidyalaya           38\n06 - Saranankara         37\n12 - Malwatta            37\n22- Wathumulla           35\n04 - Kalubowila          34\n05/06 - Ekabadda         34\n07 - Galwala             33\n15A - Kawdana East       33\n28 - Ratmalana East      33\n17 - Galkissa            32\n01 - Vilawala            30\n26 - Vihara              29\n27 - Ratmalana West      28\n05 - Hathbodiya          27\n02 - Dutugamunu          27\n03 - Kohuwala            24\nName: Route, dtype: int64"
     },
     "execution_count": 32,
     "metadata": {},
     "output_type": "execute_result"
    }
   ],
   "source": [
    "# check the instance for Route\n",
    "dataset['Route'].value_counts()\n"
   ],
   "metadata": {
    "collapsed": false,
    "ExecuteTime": {
     "end_time": "2025-01-31T18:55:52.323723Z",
     "start_time": "2025-01-31T18:55:52.320624Z"
    }
   },
   "id": "f5ad52afdc5b3089",
   "execution_count": 32
  },
  {
   "cell_type": "code",
   "outputs": [],
   "source": [
    "# correcting the route category errors\n",
    "route_corrections = {\n",
    "    '01 Vilawala': '01 - Vilawala',\n",
    "    '02 Dutugamunu': '02 - Dutugamunu',\n",
    "    '03 Kohuwala': '03 - Kohuwala',\n",
    "    '02 - Kohuwala': '03 - Kohuwala',\n",
    "    '02/03 Ekabadda': '02/03 - Ekabadda',\n",
    "    '02 & 03 Ekabadda': '02/03 - Ekabadda',\n",
    "    '04 Kalubowila': '04 - Kalubowila',\n",
    "    '04 kalubowila': '04 - Kalubowila',\n",
    "    '04  Kalubowila': '04 - Kalubowila',\n",
    "    '04 - Kalubiwila': '04 - Kalubowila',\n",
    "    '11 Nedimala': '11 - Nedimala',\n",
    "    '05 Hathbodiya': '05 - Hathbodiya',\n",
    "    '06 Saranankara': '06 - Saranankara',\n",
    "    '05/06 Ekabadda': '05/06 - Ekabadda',\n",
    "    '05 & 06 Ekabadda': '05/06 - Ekabadda',\n",
    "    '07 Galwala': '07 - Galwala',\n",
    "    '08 Dehiwala West': '08 - Dehiwala West',\n",
    "    '09 Dehiwala East': '09 - Dehiwala East',\n",
    "    '09 Deiwala East': '09 - Dehiwala East',\n",
    "    '10 Udyanaya': '10 - Udyanaya',\n",
    "    '10 Udyana': '10 - Udyanaya',\n",
    "    '12 Malwatta': '12 - Malwatta',\n",
    "    '12  - Malwatta': '12 - Malwatta',\n",
    "    '14 Karagampitiya': '14 - Karagampitiya',\n",
    "    '15A Kawdana East': '15A - Kawdana East',\n",
    "    '15A Kawdana West': '15A - Kawdana East',\n",
    "    '15 A - Kawdana East': '15A - Kawdana East',\n",
    "    '15B Kwdana East': '15B - Kawdana East',\n",
    "    '15B Kawdana East': '15B - Kawdana East',\n",
    "    '15 B - Kawdana East': '15B - Kawdana East',\n",
    "    '15 Kawdana East': '15B - Kawdana East',\n",
    "    '13 Jayathilaka': '13 - Jayathilaka',\n",
    "    '16 Kawdana West': '16 - Kawdana West',\n",
    "    '16 Kadana West': '16 - Kawdana West',\n",
    "    '16 Kawdana Waste': '16 - Kawdana West',\n",
    "    '16 Kawdana East': '16 - Kawdana West',\n",
    "    '16 Kawdana Wast': '16 - Kawdana West',\n",
    "    '16 -  Kawdana West': '16 - Kawdana West',\n",
    "    '17 Galkissa': '17 - Galkissa',\n",
    "    '19 Watarappoola': '19 - Watarappola',\n",
    "    '19 Watarappola': '19 - Watarappola',\n",
    "    '19 - Watarappala': '19 - Watarappola',\n",
    "    '18 Vidyalaya': '18 - Vidyalaya',\n",
    "    '18 Vidyala': '18 - Vidyalaya',\n",
    "    '22 Wathumulla': '22 - Wathumulla',\n",
    "    '22- Wathumulla': '22 - Wathumulla',\n",
    "    '23 Wedikanda': '23 - Wedikanda',\n",
    "    '24 Piriwena': '24 - Pirivena',\n",
    "    '24 - Piriwena': '24 - Pirivena',\n",
    "    '20 Katukurundu Watte': '20 - Katukurunduwatta',\n",
    "    '20 Katukurundu Wate': '20 - Katukurunduwatta',\n",
    "    '20 - Katukurubduwatta': '20 - Katukurunduwatta',\n",
    "    '21 Attidiya North': '21 - Attidiya North',\n",
    "    '21 Attdidya North': '21 - Attidiya North',\n",
    "    '25 Attdidya South': '25 - Attidiya South',\n",
    "    '25 Attidiya South': '25 - Attidiya South',\n",
    "    '25 - Attidya South': '25 - Attidiya South',\n",
    "    '26 Vihara': '26 - Vihara',\n",
    "    '27 Ratmalana West': '27 - Ratmalana West',\n",
    "    '27 Rathmalana West': '27 - Ratmalana West',\n",
    "    '27 - Ratmalala West': '27 - Ratmalana West',\n",
    "    '28 Ratmalana West': '28 - Ratmalana East',\n",
    "    '28 Ratmalana East': '28 - Ratmalana East',\n",
    "    '28 -Ratmalana East': '28 - Ratmalana East',\n",
    "    '28Ratmalana East': '28 - Ratmalana East',\n",
    "    '29A Kandawala': '29A - Kandawala',\n",
    "    '29 A - Kandawala': '29A - Kandawala',\n",
    "    '29A Kawdana': '29A - Kandawala',\n",
    "    '29B Borupana': '29B - Borupana',\n",
    "    '29 B - Borupana': '29B - Borupana'\n",
    "}\n",
    "\n",
    "# Replace incorrect names with correct names\n",
    "dataset['Route'] = dataset['Route'].replace(route_corrections)\n"
   ],
   "metadata": {
    "collapsed": false,
    "ExecuteTime": {
     "end_time": "2025-01-31T18:56:43.341744Z",
     "start_time": "2025-01-31T18:56:43.323481Z"
    }
   },
   "id": "d0e21fa1b1a588ab",
   "execution_count": 33
  },
  {
   "cell_type": "code",
   "outputs": [
    {
     "data": {
      "text/plain": "20 - Katukurunduwatta    91\n13 - Jayathilaka         81\n23 - Wedikanda           80\n09 - Dehiwala East       79\n29B - Borupana           77\n25 - Attidiya South      72\n11 - Nedimala            71\n21 - Attidiya North      69\n08 - Dehiwala West       67\n10 - Udyanaya            65\n29A - Kandawala          64\n15B - Kawdana East       63\n14 - Karagampitiya       61\n16 - Kawdana West        58\n19 - Watarappola         57\n02/03 - Ekabadda         56\n24 - Pirivena            40\n18 - Vidyalaya           38\n06 - Saranankara         37\n12 - Malwatta            37\n22 - Wathumulla          35\n04 - Kalubowila          34\n05/06 - Ekabadda         34\n07 - Galwala             33\n15A - Kawdana East       33\n28 - Ratmalana East      33\n17 - Galkissa            32\n01 - Vilawala            30\n26 - Vihara              29\n27 - Ratmalana West      28\n05 - Hathbodiya          27\n02 - Dutugamunu          27\n03 - Kohuwala            24\nName: Route, dtype: int64"
     },
     "execution_count": 34,
     "metadata": {},
     "output_type": "execute_result"
    }
   ],
   "source": [
    "# check the instance for Route after correcting the route category errors\n",
    "dataset['Route'].value_counts()"
   ],
   "metadata": {
    "collapsed": false,
    "ExecuteTime": {
     "end_time": "2025-01-31T18:56:50.748470Z",
     "start_time": "2025-01-31T18:56:50.725584Z"
    }
   },
   "id": "6d784bb3e7fabcb",
   "execution_count": 34
  },
  {
   "cell_type": "code",
   "outputs": [],
   "source": [
    "# standardize the 'Route' column\n",
    "dataset['Route'] = dataset['Route'].str.strip().str.upper()\n"
   ],
   "metadata": {
    "collapsed": false,
    "ExecuteTime": {
     "end_time": "2025-01-31T18:57:38.088054Z",
     "start_time": "2025-01-31T18:57:38.076672Z"
    }
   },
   "id": "dfdc8e0517e590d1",
   "execution_count": 36
  },
  {
   "cell_type": "code",
   "outputs": [],
   "source": [
    "# standardize the 'Muster' column\n",
    "dataset['Muster'] = dataset['Muster'].str.strip().str.upper()"
   ],
   "metadata": {
    "collapsed": false,
    "ExecuteTime": {
     "end_time": "2025-01-31T18:58:14.146058Z",
     "start_time": "2025-01-31T18:58:14.134640Z"
    }
   },
   "id": "b1641d337df403fd",
   "execution_count": 37
  },
  {
   "cell_type": "code",
   "outputs": [
    {
     "data": {
      "text/plain": "20 - KATUKURUNDUWATTA    91\n13 - JAYATHILAKA         81\n23 - WEDIKANDA           80\n09 - DEHIWALA EAST       79\n29B - BORUPANA           77\n25 - ATTIDIYA SOUTH      72\n11 - NEDIMALA            71\n21 - ATTIDIYA NORTH      69\n08 - DEHIWALA WEST       67\n10 - UDYANAYA            65\n29A - KANDAWALA          64\n15B - KAWDANA EAST       63\n14 - KARAGAMPITIYA       61\n16 - KAWDANA WEST        58\n19 - WATARAPPOLA         57\n02/03 - EKABADDA         56\n24 - PIRIVENA            40\n18 - VIDYALAYA           38\n06 - SARANANKARA         37\n12 - MALWATTA            37\n22 - WATHUMULLA          35\n04 - KALUBOWILA          34\n05/06 - EKABADDA         34\n07 - GALWALA             33\n15A - KAWDANA EAST       33\n28 - RATMALANA EAST      33\n17 - GALKISSA            32\n01 - VILAWALA            30\n26 - VIHARA              29\n27 - RATMALANA WEST      28\n05 - HATHBODIYA          27\n02 - DUTUGAMUNU          27\n03 - KOHUWALA            24\nName: Route, dtype: int64"
     },
     "execution_count": 38,
     "metadata": {},
     "output_type": "execute_result"
    }
   ],
   "source": [
    "# check the instance for Route after standardizing the 'Route' column\n",
    "dataset['Route'].value_counts()"
   ],
   "metadata": {
    "collapsed": false,
    "ExecuteTime": {
     "end_time": "2025-01-31T18:58:21.170599Z",
     "start_time": "2025-01-31T18:58:21.154246Z"
    }
   },
   "id": "71eb7f63e55887bc",
   "execution_count": 38
  },
  {
   "cell_type": "code",
   "outputs": [
    {
     "data": {
      "text/plain": "R 02               231\nR 01               193\nBADOWITA           154\nMOUNT LAVINIA      147\nD 02 PARK          144\nATTIDIYA           141\nKOHUWALA           137\nKARAGAMPITIYA      131\nNEDIMALA           105\nDEHIWALA TOWN      100\nSARANANKARA         98\nDEHIWALA MARKET     81\nName: Muster, dtype: int64"
     },
     "execution_count": 40,
     "metadata": {},
     "output_type": "execute_result"
    }
   ],
   "source": [
    "# check the instance for Muster after standardizing the 'Muster' column\n",
    "dataset['Muster'].value_counts()"
   ],
   "metadata": {
    "collapsed": false,
    "ExecuteTime": {
     "end_time": "2025-01-31T18:58:32.339906Z",
     "start_time": "2025-01-31T18:58:32.323547Z"
    }
   },
   "id": "3410a8141766eedf",
   "execution_count": 40
  },
  {
   "cell_type": "code",
   "outputs": [
    {
     "name": "stdout",
     "output_type": "stream",
     "text": [
      "20 - KATUKURUNDUWATTA: yes\n",
      "29A - KANDAWALA: yes\n",
      "29B - BORUPANA: yes\n",
      "08 - DEHIWALA WEST: yes\n",
      "13 - JAYATHILAKA: yes\n",
      "21 - ATTIDIYA NORTH: yes\n",
      "25 - ATTIDIYA SOUTH: yes\n",
      "02/03 - EKABADDA: yes\n",
      "11 - NEDIMALA: yes\n",
      "16 - KAWDANA WEST: yes\n",
      "10 - UDYANAYA: yes\n",
      "19 - WATARAPPOLA: yes\n",
      "23 - WEDIKANDA: yes\n",
      "09 - DEHIWALA EAST: yes\n",
      "14 - KARAGAMPITIYA: yes\n",
      "18 - VIDYALAYA: yes\n",
      "15B - KAWDANA EAST: yes\n",
      "06 - SARANANKARA: yes\n",
      "24 - PIRIVENA: yes\n",
      "12 - MALWATTA: yes\n",
      "04 - KALUBOWILA: yes\n",
      "05/06 - EKABADDA: yes\n",
      "28 - RATMALANA EAST: yes\n",
      "22 - WATHUMULLA: yes\n",
      "15A - KAWDANA EAST: yes\n",
      "05 - HATHBODIYA: yes\n",
      "27 - RATMALANA WEST: yes\n",
      "03 - KOHUWALA: yes\n"
     ]
    }
   ],
   "source": [
    "# Define the default routes\n",
    "default_routes = [\n",
    "    '20 - KATUKURUNDUWATTA', '29A - KANDAWALA', '29B - BORUPANA', '08 - DEHIWALA WEST', \n",
    "    '13 - JAYATHILAKA', '21 - ATTIDIYA NORTH', '25 - ATTIDIYA SOUTH', '02/03 - EKABADDA', \n",
    "    '11 - NEDIMALA', '16 - KAWDANA WEST', '10 - UDYANAYA', '19 - WATARAPPOLA', \n",
    "    '23 - WEDIKANDA', '09 - DEHIWALA EAST', '14 - KARAGAMPITIYA', '18 - VIDYALAYA', \n",
    "    '15B - KAWDANA EAST', '06 - SARANANKARA', '24 - PIRIVENA', '12 - MALWATTA', \n",
    "    '04 - KALUBOWILA', '05/06 - EKABADDA', '28 - RATMALANA EAST', '22 - WATHUMULLA', \n",
    "    '15A - KAWDANA EAST', '05 - HATHBODIYA', '27 - RATMALANA WEST', '03 - KOHUWALA'\n",
    "]\n",
    "\n",
    "# Function to check if routes exist in the dataset\n",
    "def check_routes_exist(df, routes):\n",
    "    for route in routes:\n",
    "        if route in df['Route'].values:\n",
    "            print(f\"{route}: yes\")\n",
    "        else:\n",
    "            print(f\"{route}: no\")\n",
    "\n",
    "# Check the routes\n",
    "check_routes_exist(dataset, default_routes)"
   ],
   "metadata": {
    "collapsed": false,
    "ExecuteTime": {
     "end_time": "2025-01-31T18:58:58.012644Z",
     "start_time": "2025-01-31T18:58:57.990171Z"
    }
   },
   "id": "91a9f0e51c575f14",
   "execution_count": 41
  },
  {
   "cell_type": "code",
   "outputs": [
    {
     "name": "stdout",
     "output_type": "stream",
     "text": [
      "R 02: yes\n",
      "R 01: yes\n",
      "MOUNT LAVINIA: yes\n",
      "KOHUWALA: yes\n",
      "BADOWITA: yes\n",
      "ATTIDIYA: yes\n",
      "KARAGAMPITIYA: yes\n",
      "D 02 PARK: yes\n",
      "DEHIWALA TOWN: yes\n",
      "SARANANKARA: yes\n",
      "NEDIMALA: yes\n",
      "DEHIWALA MARKET: yes\n"
     ]
    }
   ],
   "source": [
    "# Define the default musters\n",
    "default_musters = [\n",
    "    'R 02', 'R 01', 'MOUNT LAVINIA', 'KOHUWALA', 'BADOWITA', \n",
    "    'ATTIDIYA', 'KARAGAMPITIYA', 'D 02 PARK', 'DEHIWALA TOWN', \n",
    "    'SARANANKARA', 'NEDIMALA', 'DEHIWALA MARKET'\n",
    "]\n",
    "\n",
    "# Function to check if musters exist in the dataset\n",
    "def check_musters_exist(df, musters):\n",
    "    for muster in musters:\n",
    "        if muster in df['Muster'].values:\n",
    "            print(f\"{muster}: yes\")\n",
    "        else:\n",
    "            print(f\"{muster}: no\")\n",
    "\n",
    "# Check the musters\n",
    "check_musters_exist(dataset, default_musters)"
   ],
   "metadata": {
    "collapsed": false,
    "ExecuteTime": {
     "end_time": "2025-01-31T18:59:26.890473Z",
     "start_time": "2025-01-31T18:59:26.873753Z"
    }
   },
   "id": "4fb2ecb288f49cfc",
   "execution_count": 42
  },
  {
   "cell_type": "code",
   "outputs": [
    {
     "name": "stdout",
     "output_type": "stream",
     "text": [
      "      Dump Date Vehicle No  Out Time  SOW Wastage Amount (Kg)  \\\n",
      "1    2024-09-02    ZA-6994  13:05:00                      NaN   \n",
      "1319 2024-09-02    RD-8430  17:17:00                      NaN   \n",
      "60   2024-09-02    LM-5359  14:21:00                   2780.0   \n",
      "1318 2024-09-02    RD-8430  13:37:00                   1060.0   \n",
      "1317 2024-09-02    LM-5361  13:36:00                   1380.0   \n",
      "...         ...        ...       ...                      ...   \n",
      "1013 2024-09-09    LK-2677  13:55:00                   1480.0   \n",
      "406  2024-09-09    LK-2687  11:36:00                   3210.0   \n",
      "405  2024-09-09    RD-1607  13:22:00                      NaN   \n",
      "404  2024-09-09    RD-1607  10:30:00                      NaN   \n",
      "196  2024-09-09    RD-8432  13:33:00                   2100.0   \n",
      "\n",
      "      MSW Wastage Amount (Kg)  Induastrial Wastage (Kg)  Other Amount (Kg)  \\\n",
      "1                      3620.0                       NaN                NaN   \n",
      "1319                    990.0                       NaN                NaN   \n",
      "60                        NaN                       NaN                NaN   \n",
      "1318                      NaN                       NaN                NaN   \n",
      "1317                      NaN                       NaN                NaN   \n",
      "...                       ...                       ...                ...   \n",
      "1013                      NaN                       NaN                NaN   \n",
      "406                       NaN                       NaN                NaN   \n",
      "405                     970.0                       NaN                NaN   \n",
      "404                    1750.0                       NaN                NaN   \n",
      "196                       NaN                       NaN                NaN   \n",
      "\n",
      "     Remarks Bill No         Muster                Route  \n",
      "1        NaN  605770       KOHUWALA        01 - VILAWALA  \n",
      "1319     NaN  605897       ATTIDIYA  21 - ATTIDIYA NORTH  \n",
      "60       NaN  605815       KOHUWALA        03 - KOHUWALA  \n",
      "1318     NaN  605792       ATTIDIYA  21 - ATTIDIYA NORTH  \n",
      "1317     NaN  605790       ATTIDIYA  21 - ATTIDIYA NORTH  \n",
      "...      ...     ...            ...                  ...  \n",
      "1013     NaN  607173           R 01      22 - WATHUMULLA  \n",
      "406      NaN  607105  DEHIWALA TOWN   08 - DEHIWALA WEST  \n",
      "405      NaN  607140  DEHIWALA TOWN   08 - DEHIWALA WEST  \n",
      "404      NaN  607076  DEHIWALA TOWN   08 - DEHIWALA WEST  \n",
      "196      NaN  607154       NEDIMALA        11 - NEDIMALA  \n",
      "\n",
      "[500 rows x 11 columns]\n"
     ]
    }
   ],
   "source": [
    "# print the first 500 rows of the dataset to verify the changes\n",
    "print(dataset.head(500))"
   ],
   "metadata": {
    "collapsed": false,
    "ExecuteTime": {
     "end_time": "2025-01-31T18:59:52.423540Z",
     "start_time": "2025-01-31T18:59:52.414535Z"
    }
   },
   "id": "72327676250727b9",
   "execution_count": 43
  },
  {
   "cell_type": "code",
   "outputs": [],
   "source": [
    "# save the cleaned dataset to a new excel file\n",
    "dataset.to_excel('/Users/chirath/Python/IIT/Waste_Management_System-DSGP-/24 Final/0924.xlsx', index=False)"
   ],
   "metadata": {
    "collapsed": false
   },
   "id": "e5286523cf01b55f"
  }
 ],
 "metadata": {
  "kernelspec": {
   "display_name": "Python 3",
   "language": "python",
   "name": "python3"
  },
  "language_info": {
   "codemirror_mode": {
    "name": "ipython",
    "version": 2
   },
   "file_extension": ".py",
   "mimetype": "text/x-python",
   "name": "python",
   "nbconvert_exporter": "python",
   "pygments_lexer": "ipython2",
   "version": "2.7.6"
  }
 },
 "nbformat": 4,
 "nbformat_minor": 5
}
